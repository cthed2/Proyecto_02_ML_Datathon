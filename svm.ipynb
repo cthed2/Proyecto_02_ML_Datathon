{
 "cells": [
  {
   "cell_type": "code",
   "execution_count": 112,
   "metadata": {},
   "outputs": [],
   "source": [
    "import numpy as np\n",
    "from sklearn import svm\n",
    "import pandas as pd\n",
    "import pickle\n",
    "from sklearn.model_selection import train_test_split\n",
    "import sklearn\n",
    "import seaborn as sns\n",
    "import matplotlib.pyplot as plt"
   ]
  },
  {
   "cell_type": "code",
   "execution_count": 42,
   "metadata": {},
   "outputs": [
    {
     "data": {
      "text/html": [
       "<div>\n",
       "<style scoped>\n",
       "    .dataframe tbody tr th:only-of-type {\n",
       "        vertical-align: middle;\n",
       "    }\n",
       "\n",
       "    .dataframe tbody tr th {\n",
       "        vertical-align: top;\n",
       "    }\n",
       "\n",
       "    .dataframe thead th {\n",
       "        text-align: right;\n",
       "    }\n",
       "</style>\n",
       "<table border=\"1\" class=\"dataframe\">\n",
       "  <thead>\n",
       "    <tr style=\"text-align: right;\">\n",
       "      <th></th>\n",
       "      <th>Bloque_de_Almacen</th>\n",
       "      <th>Modo_de_Envio</th>\n",
       "      <th>Llamadas_de_atecion_cliente</th>\n",
       "      <th>Valoracion_de_clientes</th>\n",
       "      <th>Coste_del_producto</th>\n",
       "      <th>Compras_Anteriores</th>\n",
       "      <th>Importancia_del_producto</th>\n",
       "      <th>Genero</th>\n",
       "      <th>Descuento</th>\n",
       "      <th>Peso_en_gramos</th>\n",
       "      <th>A_Tiempo</th>\n",
       "    </tr>\n",
       "  </thead>\n",
       "  <tbody>\n",
       "    <tr>\n",
       "      <th>0</th>\n",
       "      <td>D</td>\n",
       "      <td>Flight</td>\n",
       "      <td>4</td>\n",
       "      <td>2</td>\n",
       "      <td>177</td>\n",
       "      <td>3</td>\n",
       "      <td>low</td>\n",
       "      <td>F</td>\n",
       "      <td>44</td>\n",
       "      <td>1233</td>\n",
       "      <td>1</td>\n",
       "    </tr>\n",
       "    <tr>\n",
       "      <th>1</th>\n",
       "      <td>F</td>\n",
       "      <td>Flight</td>\n",
       "      <td>4</td>\n",
       "      <td>5</td>\n",
       "      <td>216</td>\n",
       "      <td>2</td>\n",
       "      <td>low</td>\n",
       "      <td>M</td>\n",
       "      <td>59</td>\n",
       "      <td>3088</td>\n",
       "      <td>1</td>\n",
       "    </tr>\n",
       "    <tr>\n",
       "      <th>2</th>\n",
       "      <td>A</td>\n",
       "      <td>Flight</td>\n",
       "      <td>2</td>\n",
       "      <td>2</td>\n",
       "      <td>183</td>\n",
       "      <td>4</td>\n",
       "      <td>low</td>\n",
       "      <td>M</td>\n",
       "      <td>48</td>\n",
       "      <td>3374</td>\n",
       "      <td>1</td>\n",
       "    </tr>\n",
       "  </tbody>\n",
       "</table>\n",
       "</div>"
      ],
      "text/plain": [
       "  Bloque_de_Almacen Modo_de_Envio  Llamadas_de_atecion_cliente  \\\n",
       "0                 D        Flight                            4   \n",
       "1                 F        Flight                            4   \n",
       "2                 A        Flight                            2   \n",
       "\n",
       "   Valoracion_de_clientes  Coste_del_producto  Compras_Anteriores  \\\n",
       "0                       2                 177                   3   \n",
       "1                       5                 216                   2   \n",
       "2                       2                 183                   4   \n",
       "\n",
       "  Importancia_del_producto Genero  Descuento  Peso_en_gramos  A_Tiempo  \n",
       "0                      low      F         44            1233         1  \n",
       "1                      low      M         59            3088         1  \n",
       "2                      low      M         48            3374         1  "
      ]
     },
     "execution_count": 42,
     "metadata": {},
     "output_type": "execute_result"
    }
   ],
   "source": [
    "datos = pd.read_excel(\"E-Commerce_train.xlsx\")\n",
    "datos = datos.drop([\"ID\"], axis=1)\n",
    "columns_spanish = [\"Bloque_de_Almacen\",\"Modo_de_Envio\",\"Llamadas_de_atecion_cliente\",\"Valoracion_de_clientes\",\"Coste_del_producto\",\"Compras_Anteriores\",\"Importancia_del_producto\",\"Genero\",\"Descuento\",\"Peso_en_gramos\",\"A_Tiempo\"]\n",
    "datos.columns = columns_spanish\n",
    "datos.head(3)"
   ]
  },
  {
   "cell_type": "code",
   "execution_count": 43,
   "metadata": {},
   "outputs": [
    {
     "data": {
      "text/plain": [
       "0    1\n",
       "1    1\n",
       "2    1\n",
       "3    1\n",
       "4    1\n",
       "Name: A_Tiempo, dtype: int64"
      ]
     },
     "execution_count": 43,
     "metadata": {},
     "output_type": "execute_result"
    }
   ],
   "source": [
    "# Separamos la ultima columna para que sea variable destino\n",
    "datos_y = datos[datos.columns[-1]]\n",
    "datos_y.head()"
   ]
  },
  {
   "cell_type": "code",
   "execution_count": 44,
   "metadata": {},
   "outputs": [],
   "source": [
    "datos[\"Bloque_de_Almacen\"].replace([\"A\", \"B\", \"C\", \"D\", \"F\"], [ 1, 2, 3, 4, 5], inplace = True)\n",
    "datos[\"Modo_de_Envio\"].replace([\"Ship\", \"Flight\", \"Road\"], [10, 20, 30,], inplace = True)\n",
    "datos[\"Importancia_del_producto\"].replace([\"low\", \"medium\", \"high\"], [10, 20, 30,], inplace = True)\n",
    "datos[\"Genero\"].replace([\"F\", \"M\"], [1, 0 ], inplace = True)"
   ]
  },
  {
   "cell_type": "code",
   "execution_count": 45,
   "metadata": {},
   "outputs": [
    {
     "data": {
      "text/html": [
       "<div>\n",
       "<style scoped>\n",
       "    .dataframe tbody tr th:only-of-type {\n",
       "        vertical-align: middle;\n",
       "    }\n",
       "\n",
       "    .dataframe tbody tr th {\n",
       "        vertical-align: top;\n",
       "    }\n",
       "\n",
       "    .dataframe thead th {\n",
       "        text-align: right;\n",
       "    }\n",
       "</style>\n",
       "<table border=\"1\" class=\"dataframe\">\n",
       "  <thead>\n",
       "    <tr style=\"text-align: right;\">\n",
       "      <th></th>\n",
       "      <th>Bloque_de_Almacen</th>\n",
       "      <th>Modo_de_Envio</th>\n",
       "      <th>Llamadas_de_atecion_cliente</th>\n",
       "      <th>Valoracion_de_clientes</th>\n",
       "      <th>Coste_del_producto</th>\n",
       "      <th>Compras_Anteriores</th>\n",
       "      <th>Importancia_del_producto</th>\n",
       "      <th>Genero</th>\n",
       "      <th>Descuento</th>\n",
       "      <th>Peso_en_gramos</th>\n",
       "      <th>A_Tiempo</th>\n",
       "    </tr>\n",
       "  </thead>\n",
       "  <tbody>\n",
       "    <tr>\n",
       "      <th>0</th>\n",
       "      <td>4</td>\n",
       "      <td>20</td>\n",
       "      <td>4</td>\n",
       "      <td>2</td>\n",
       "      <td>177</td>\n",
       "      <td>3</td>\n",
       "      <td>10</td>\n",
       "      <td>1</td>\n",
       "      <td>44</td>\n",
       "      <td>1233</td>\n",
       "      <td>1</td>\n",
       "    </tr>\n",
       "    <tr>\n",
       "      <th>1</th>\n",
       "      <td>5</td>\n",
       "      <td>20</td>\n",
       "      <td>4</td>\n",
       "      <td>5</td>\n",
       "      <td>216</td>\n",
       "      <td>2</td>\n",
       "      <td>10</td>\n",
       "      <td>0</td>\n",
       "      <td>59</td>\n",
       "      <td>3088</td>\n",
       "      <td>1</td>\n",
       "    </tr>\n",
       "    <tr>\n",
       "      <th>2</th>\n",
       "      <td>1</td>\n",
       "      <td>20</td>\n",
       "      <td>2</td>\n",
       "      <td>2</td>\n",
       "      <td>183</td>\n",
       "      <td>4</td>\n",
       "      <td>10</td>\n",
       "      <td>0</td>\n",
       "      <td>48</td>\n",
       "      <td>3374</td>\n",
       "      <td>1</td>\n",
       "    </tr>\n",
       "    <tr>\n",
       "      <th>3</th>\n",
       "      <td>2</td>\n",
       "      <td>20</td>\n",
       "      <td>3</td>\n",
       "      <td>3</td>\n",
       "      <td>176</td>\n",
       "      <td>4</td>\n",
       "      <td>20</td>\n",
       "      <td>0</td>\n",
       "      <td>10</td>\n",
       "      <td>1177</td>\n",
       "      <td>1</td>\n",
       "    </tr>\n",
       "    <tr>\n",
       "      <th>4</th>\n",
       "      <td>3</td>\n",
       "      <td>20</td>\n",
       "      <td>2</td>\n",
       "      <td>2</td>\n",
       "      <td>184</td>\n",
       "      <td>3</td>\n",
       "      <td>20</td>\n",
       "      <td>1</td>\n",
       "      <td>46</td>\n",
       "      <td>2484</td>\n",
       "      <td>1</td>\n",
       "    </tr>\n",
       "  </tbody>\n",
       "</table>\n",
       "</div>"
      ],
      "text/plain": [
       "   Bloque_de_Almacen  Modo_de_Envio  Llamadas_de_atecion_cliente  \\\n",
       "0                  4             20                            4   \n",
       "1                  5             20                            4   \n",
       "2                  1             20                            2   \n",
       "3                  2             20                            3   \n",
       "4                  3             20                            2   \n",
       "\n",
       "   Valoracion_de_clientes  Coste_del_producto  Compras_Anteriores  \\\n",
       "0                       2                 177                   3   \n",
       "1                       5                 216                   2   \n",
       "2                       2                 183                   4   \n",
       "3                       3                 176                   4   \n",
       "4                       2                 184                   3   \n",
       "\n",
       "   Importancia_del_producto  Genero  Descuento  Peso_en_gramos  A_Tiempo  \n",
       "0                        10       1         44            1233         1  \n",
       "1                        10       0         59            3088         1  \n",
       "2                        10       0         48            3374         1  \n",
       "3                        20       0         10            1177         1  \n",
       "4                        20       1         46            2484         1  "
      ]
     },
     "execution_count": 45,
     "metadata": {},
     "output_type": "execute_result"
    }
   ],
   "source": [
    "datos.head()"
   ]
  },
  {
   "cell_type": "code",
   "execution_count": 46,
   "metadata": {},
   "outputs": [],
   "source": [
    "datos_x = datos[[\"Bloque_de_Almacen\",\"Modo_de_Envio\",\"Llamadas_de_atecion_cliente\",\"Valoracion_de_clientes\",\"Coste_del_producto\",\"Compras_Anteriores\",\"Importancia_del_producto\",\"Genero\",\"Descuento\",\"Peso_en_gramos\"]]"
   ]
  },
  {
   "cell_type": "code",
   "execution_count": 47,
   "metadata": {},
   "outputs": [],
   "source": [
    "datos_x = datos_x.to_numpy()"
   ]
  },
  {
   "cell_type": "code",
   "execution_count": 48,
   "metadata": {},
   "outputs": [],
   "source": [
    "#Normalización de Datos:\n",
    "prom = datos_x.mean(axis=0)\n",
    "desv = datos_x.std(axis=0)\n",
    "\n",
    "datos_x = (datos_x - prom)/desv"
   ]
  },
  {
   "cell_type": "code",
   "execution_count": 56,
   "metadata": {},
   "outputs": [],
   "source": [
    "X_train, X_test, y_train, y_test = train_test_split(datos_x, datos_y, train_size=0.8, test_size=0.2, random_state=100)"
   ]
  },
  {
   "cell_type": "code",
   "execution_count": 57,
   "metadata": {},
   "outputs": [],
   "source": [
    "model = svm.SVC(kernel='linear', C=100).fit(X_train, y_train)"
   ]
  },
  {
   "cell_type": "code",
   "execution_count": 58,
   "metadata": {},
   "outputs": [
    {
     "name": "stdout",
     "output_type": "stream",
     "text": [
      "0.6777777777777778\n"
     ]
    }
   ],
   "source": [
    "score = model.score(X_test, y_test)\n",
    "print(score)"
   ]
  },
  {
   "cell_type": "markdown",
   "metadata": {},
   "source": [
    "### Matrix de Confusión"
   ]
  },
  {
   "cell_type": "code",
   "execution_count": 111,
   "metadata": {},
   "outputs": [],
   "source": [
    "from sklearn.metrics import accuracy_score \n",
    "from sklearn.metrics import confusion_matrix, classification_report, ConfusionMatrixDisplay"
   ]
  },
  {
   "cell_type": "code",
   "execution_count": 116,
   "metadata": {},
   "outputs": [
    {
     "name": "stdout",
     "output_type": "stream",
     "text": [
      "              precision    recall  f1-score   support\n",
      "\n",
      "           0       0.57      0.76      0.65      2639\n",
      "           1       0.83      0.66      0.73      4560\n",
      "\n",
      "    accuracy                           0.70      7199\n",
      "   macro avg       0.70      0.71      0.69      7199\n",
      "weighted avg       0.73      0.70      0.70      7199\n",
      "\n"
     ]
    }
   ],
   "source": [
    "print(classification_report(y_train, model.predict(X_train)))"
   ]
  },
  {
   "cell_type": "code",
   "execution_count": 115,
   "metadata": {},
   "outputs": [
    {
     "name": "stdout",
     "output_type": "stream",
     "text": [
      "              precision    recall  f1-score   support\n",
      "\n",
      "           0       0.53      0.76      0.63       641\n",
      "           1       0.82      0.64      0.72      1159\n",
      "\n",
      "    accuracy                           0.68      1800\n",
      "   macro avg       0.68      0.70      0.67      1800\n",
      "weighted avg       0.72      0.68      0.68      1800\n",
      "\n"
     ]
    }
   ],
   "source": [
    "print(classification_report(y_test, model.predict(X_test)))"
   ]
  },
  {
   "cell_type": "code",
   "execution_count": 113,
   "metadata": {},
   "outputs": [
    {
     "data": {
      "image/png": "[encoded data removed]",
      "text/plain": [
       "<Figure size 432x288 with 2 Axes>"
      ]
     },
     "metadata": {
      "needs_background": "light"
     },
     "output_type": "display_data"
    }
   ],
   "source": [
    "cm = confusion_matrix(y_train, model.predict(X_train))\n",
    "disp = ConfusionMatrixDisplay(confusion_matrix=cm)\n",
    "disp.plot()\n",
    "plt.show()"
   ]
  },
  {
   "cell_type": "markdown",
   "metadata": {},
   "source": [
    "### Probando:"
   ]
  },
  {
   "cell_type": "code",
   "execution_count": 86,
   "metadata": {},
   "outputs": [
    {
     "data": {
      "text/html": [
       "<div>\n",
       "<style scoped>\n",
       "    .dataframe tbody tr th:only-of-type {\n",
       "        vertical-align: middle;\n",
       "    }\n",
       "\n",
       "    .dataframe tbody tr th {\n",
       "        vertical-align: top;\n",
       "    }\n",
       "\n",
       "    .dataframe thead th {\n",
       "        text-align: right;\n",
       "    }\n",
       "</style>\n",
       "<table border=\"1\" class=\"dataframe\">\n",
       "  <thead>\n",
       "    <tr style=\"text-align: right;\">\n",
       "      <th></th>\n",
       "      <th>Bloque_de_Almacen</th>\n",
       "      <th>Modo_de_Envio</th>\n",
       "      <th>Llamadas_de_atecion_cliente</th>\n",
       "      <th>Valoracion_de_clientes</th>\n",
       "      <th>Coste_del_producto</th>\n",
       "      <th>Compras_Anteriores</th>\n",
       "      <th>Importancia_del_producto</th>\n",
       "      <th>Genero</th>\n",
       "      <th>Descuento</th>\n",
       "      <th>Peso_en_gramos</th>\n",
       "    </tr>\n",
       "  </thead>\n",
       "  <tbody>\n",
       "    <tr>\n",
       "      <th>0</th>\n",
       "      <td>F</td>\n",
       "      <td>Ship</td>\n",
       "      <td>5</td>\n",
       "      <td>1</td>\n",
       "      <td>189</td>\n",
       "      <td>2</td>\n",
       "      <td>medium</td>\n",
       "      <td>M</td>\n",
       "      <td>10</td>\n",
       "      <td>5248</td>\n",
       "    </tr>\n",
       "    <tr>\n",
       "      <th>1</th>\n",
       "      <td>D</td>\n",
       "      <td>Ship</td>\n",
       "      <td>5</td>\n",
       "      <td>3</td>\n",
       "      <td>150</td>\n",
       "      <td>2</td>\n",
       "      <td>high</td>\n",
       "      <td>F</td>\n",
       "      <td>9</td>\n",
       "      <td>4446</td>\n",
       "    </tr>\n",
       "    <tr>\n",
       "      <th>2</th>\n",
       "      <td>F</td>\n",
       "      <td>Ship</td>\n",
       "      <td>3</td>\n",
       "      <td>3</td>\n",
       "      <td>200</td>\n",
       "      <td>3</td>\n",
       "      <td>low</td>\n",
       "      <td>M</td>\n",
       "      <td>3</td>\n",
       "      <td>5739</td>\n",
       "    </tr>\n",
       "  </tbody>\n",
       "</table>\n",
       "</div>"
      ],
      "text/plain": [
       "  Bloque_de_Almacen Modo_de_Envio  Llamadas_de_atecion_cliente  \\\n",
       "0                 F          Ship                            5   \n",
       "1                 D          Ship                            5   \n",
       "2                 F          Ship                            3   \n",
       "\n",
       "   Valoracion_de_clientes  Coste_del_producto  Compras_Anteriores  \\\n",
       "0                       1                 189                   2   \n",
       "1                       3                 150                   2   \n",
       "2                       3                 200                   3   \n",
       "\n",
       "  Importancia_del_producto Genero  Descuento  Peso_en_gramos  \n",
       "0                   medium      M         10            5248  \n",
       "1                     high      F          9            4446  \n",
       "2                      low      M          3            5739  "
      ]
     },
     "execution_count": 86,
     "metadata": {},
     "output_type": "execute_result"
    }
   ],
   "source": [
    "datos_test = pd.read_excel(\"E-Commerce_test.xlsx\")\n",
    "datos_test = datos_test.drop([\"ID\"], axis=1)\n",
    "columns_spanish = [\"Bloque_de_Almacen\",\"Modo_de_Envio\",\"Llamadas_de_atecion_cliente\",\"Valoracion_de_clientes\",\"Coste_del_producto\",\"Compras_Anteriores\",\"Importancia_del_producto\",\"Genero\",\"Descuento\",\"Peso_en_gramos\",]\n",
    "datos_test.columns = columns_spanish\n",
    "datos_test.head(3)"
   ]
  },
  {
   "cell_type": "code",
   "execution_count": 87,
   "metadata": {},
   "outputs": [],
   "source": [
    "datos_test[\"Bloque_de_Almacen\"].replace([\"A\", \"B\", \"C\", \"D\", \"F\"], [ 1, 2, 3, 4, 5], inplace = True)\n",
    "datos_test[\"Modo_de_Envio\"].replace([\"Ship\", \"Flight\", \"Road\"], [10, 20, 30,], inplace = True)\n",
    "datos_test[\"Importancia_del_producto\"].replace([\"low\", \"medium\", \"high\"], [10, 20, 30,], inplace = True)\n",
    "datos_test[\"Genero\"].replace([\"F\", \"M\"], [1, 0 ], inplace = True)"
   ]
  },
  {
   "cell_type": "code",
   "execution_count": 88,
   "metadata": {},
   "outputs": [],
   "source": [
    "prom_test = datos_test.mean(axis=0)\n",
    "desv_test = datos_test.std(axis=0)\n",
    "\n",
    "datos_test = (datos_test - prom_test)/desv_test"
   ]
  },
  {
   "cell_type": "code",
   "execution_count": 89,
   "metadata": {},
   "outputs": [
    {
     "data": {
      "text/html": [
       "<div>\n",
       "<style scoped>\n",
       "    .dataframe tbody tr th:only-of-type {\n",
       "        vertical-align: middle;\n",
       "    }\n",
       "\n",
       "    .dataframe tbody tr th {\n",
       "        vertical-align: top;\n",
       "    }\n",
       "\n",
       "    .dataframe thead th {\n",
       "        text-align: right;\n",
       "    }\n",
       "</style>\n",
       "<table border=\"1\" class=\"dataframe\">\n",
       "  <thead>\n",
       "    <tr style=\"text-align: right;\">\n",
       "      <th></th>\n",
       "      <th>Bloque_de_Almacen</th>\n",
       "      <th>Modo_de_Envio</th>\n",
       "      <th>Llamadas_de_atecion_cliente</th>\n",
       "      <th>Valoracion_de_clientes</th>\n",
       "      <th>Coste_del_producto</th>\n",
       "      <th>Compras_Anteriores</th>\n",
       "      <th>Importancia_del_producto</th>\n",
       "      <th>Genero</th>\n",
       "      <th>Descuento</th>\n",
       "      <th>Peso_en_gramos</th>\n",
       "    </tr>\n",
       "  </thead>\n",
       "  <tbody>\n",
       "    <tr>\n",
       "      <th>0</th>\n",
       "      <td>1.117126</td>\n",
       "      <td>-0.649818</td>\n",
       "      <td>0.676219</td>\n",
       "      <td>-1.391743</td>\n",
       "      <td>-0.616256</td>\n",
       "      <td>-1.251263</td>\n",
       "      <td>0.727111</td>\n",
       "      <td>-1.004761</td>\n",
       "      <td>1.509972</td>\n",
       "      <td>0.814256</td>\n",
       "    </tr>\n",
       "    <tr>\n",
       "      <th>1</th>\n",
       "      <td>0.446381</td>\n",
       "      <td>-0.649818</td>\n",
       "      <td>0.676219</td>\n",
       "      <td>0.020836</td>\n",
       "      <td>-1.457929</td>\n",
       "      <td>-1.251263</td>\n",
       "      <td>2.390980</td>\n",
       "      <td>0.994764</td>\n",
       "      <td>1.165701</td>\n",
       "      <td>0.344642</td>\n",
       "    </tr>\n",
       "    <tr>\n",
       "      <th>2</th>\n",
       "      <td>1.117126</td>\n",
       "      <td>-0.649818</td>\n",
       "      <td>-1.083623</td>\n",
       "      <td>0.020836</td>\n",
       "      <td>-0.378861</td>\n",
       "      <td>-0.563756</td>\n",
       "      <td>-0.936758</td>\n",
       "      <td>-1.004761</td>\n",
       "      <td>-0.899924</td>\n",
       "      <td>1.101763</td>\n",
       "    </tr>\n",
       "    <tr>\n",
       "      <th>3</th>\n",
       "      <td>-1.565854</td>\n",
       "      <td>-0.649818</td>\n",
       "      <td>0.676219</td>\n",
       "      <td>-1.391743</td>\n",
       "      <td>-1.824812</td>\n",
       "      <td>-1.251263</td>\n",
       "      <td>0.727111</td>\n",
       "      <td>-1.004761</td>\n",
       "      <td>-1.588466</td>\n",
       "      <td>0.459996</td>\n",
       "    </tr>\n",
       "    <tr>\n",
       "      <th>4</th>\n",
       "      <td>-0.895109</td>\n",
       "      <td>-0.649818</td>\n",
       "      <td>-0.203702</td>\n",
       "      <td>-0.685454</td>\n",
       "      <td>0.916021</td>\n",
       "      <td>-0.563756</td>\n",
       "      <td>-0.936758</td>\n",
       "      <td>-1.004761</td>\n",
       "      <td>-0.555653</td>\n",
       "      <td>0.964158</td>\n",
       "    </tr>\n",
       "    <tr>\n",
       "      <th>...</th>\n",
       "      <td>...</td>\n",
       "      <td>...</td>\n",
       "      <td>...</td>\n",
       "      <td>...</td>\n",
       "      <td>...</td>\n",
       "      <td>...</td>\n",
       "      <td>...</td>\n",
       "      <td>...</td>\n",
       "      <td>...</td>\n",
       "      <td>...</td>\n",
       "    </tr>\n",
       "    <tr>\n",
       "      <th>1995</th>\n",
       "      <td>-1.565854</td>\n",
       "      <td>-0.649818</td>\n",
       "      <td>-0.203702</td>\n",
       "      <td>-1.391743</td>\n",
       "      <td>0.743370</td>\n",
       "      <td>0.811259</td>\n",
       "      <td>0.727111</td>\n",
       "      <td>0.994764</td>\n",
       "      <td>-1.588466</td>\n",
       "      <td>-1.358149</td>\n",
       "    </tr>\n",
       "    <tr>\n",
       "      <th>1996</th>\n",
       "      <td>-0.895109</td>\n",
       "      <td>-0.649818</td>\n",
       "      <td>-0.203702</td>\n",
       "      <td>-1.391743</td>\n",
       "      <td>0.311743</td>\n",
       "      <td>0.811259</td>\n",
       "      <td>0.727111</td>\n",
       "      <td>0.994764</td>\n",
       "      <td>0.132889</td>\n",
       "      <td>-1.528546</td>\n",
       "    </tr>\n",
       "    <tr>\n",
       "      <th>1997</th>\n",
       "      <td>-0.224364</td>\n",
       "      <td>-0.649818</td>\n",
       "      <td>0.676219</td>\n",
       "      <td>0.727125</td>\n",
       "      <td>0.527556</td>\n",
       "      <td>0.811259</td>\n",
       "      <td>-0.936758</td>\n",
       "      <td>0.994764</td>\n",
       "      <td>-0.555653</td>\n",
       "      <td>-1.582417</td>\n",
       "    </tr>\n",
       "    <tr>\n",
       "      <th>1998</th>\n",
       "      <td>1.117126</td>\n",
       "      <td>-0.649818</td>\n",
       "      <td>0.676219</td>\n",
       "      <td>-0.685454</td>\n",
       "      <td>0.117511</td>\n",
       "      <td>1.498766</td>\n",
       "      <td>0.727111</td>\n",
       "      <td>-1.004761</td>\n",
       "      <td>-1.244195</td>\n",
       "      <td>-1.550211</td>\n",
       "    </tr>\n",
       "    <tr>\n",
       "      <th>1999</th>\n",
       "      <td>0.446381</td>\n",
       "      <td>-0.649818</td>\n",
       "      <td>-1.963544</td>\n",
       "      <td>1.433414</td>\n",
       "      <td>-1.350022</td>\n",
       "      <td>0.811259</td>\n",
       "      <td>-0.936758</td>\n",
       "      <td>0.994764</td>\n",
       "      <td>0.132889</td>\n",
       "      <td>-1.299008</td>\n",
       "    </tr>\n",
       "  </tbody>\n",
       "</table>\n",
       "<p>2000 rows × 10 columns</p>\n",
       "</div>"
      ],
      "text/plain": [
       "      Bloque_de_Almacen  Modo_de_Envio  Llamadas_de_atecion_cliente  \\\n",
       "0              1.117126      -0.649818                     0.676219   \n",
       "1              0.446381      -0.649818                     0.676219   \n",
       "2              1.117126      -0.649818                    -1.083623   \n",
       "3             -1.565854      -0.649818                     0.676219   \n",
       "4             -0.895109      -0.649818                    -0.203702   \n",
       "...                 ...            ...                          ...   \n",
       "1995          -1.565854      -0.649818                    -0.203702   \n",
       "1996          -0.895109      -0.649818                    -0.203702   \n",
       "1997          -0.224364      -0.649818                     0.676219   \n",
       "1998           1.117126      -0.649818                     0.676219   \n",
       "1999           0.446381      -0.649818                    -1.963544   \n",
       "\n",
       "      Valoracion_de_clientes  Coste_del_producto  Compras_Anteriores  \\\n",
       "0                  -1.391743           -0.616256           -1.251263   \n",
       "1                   0.020836           -1.457929           -1.251263   \n",
       "2                   0.020836           -0.378861           -0.563756   \n",
       "3                  -1.391743           -1.824812           -1.251263   \n",
       "4                  -0.685454            0.916021           -0.563756   \n",
       "...                      ...                 ...                 ...   \n",
       "1995               -1.391743            0.743370            0.811259   \n",
       "1996               -1.391743            0.311743            0.811259   \n",
       "1997                0.727125            0.527556            0.811259   \n",
       "1998               -0.685454            0.117511            1.498766   \n",
       "1999                1.433414           -1.350022            0.811259   \n",
       "\n",
       "      Importancia_del_producto    Genero  Descuento  Peso_en_gramos  \n",
       "0                     0.727111 -1.004761   1.509972        0.814256  \n",
       "1                     2.390980  0.994764   1.165701        0.344642  \n",
       "2                    -0.936758 -1.004761  -0.899924        1.101763  \n",
       "3                     0.727111 -1.004761  -1.588466        0.459996  \n",
       "4                    -0.936758 -1.004761  -0.555653        0.964158  \n",
       "...                        ...       ...        ...             ...  \n",
       "1995                  0.727111  0.994764  -1.588466       -1.358149  \n",
       "1996                  0.727111  0.994764   0.132889       -1.528546  \n",
       "1997                 -0.936758  0.994764  -0.555653       -1.582417  \n",
       "1998                  0.727111 -1.004761  -1.244195       -1.550211  \n",
       "1999                 -0.936758  0.994764   0.132889       -1.299008  \n",
       "\n",
       "[2000 rows x 10 columns]"
      ]
     },
     "execution_count": 89,
     "metadata": {},
     "output_type": "execute_result"
    }
   ],
   "source": [
    "datos_test"
   ]
  },
  {
   "cell_type": "code",
   "execution_count": 90,
   "metadata": {},
   "outputs": [],
   "source": [
    "datos_test = datos_test.to_numpy()"
   ]
  },
  {
   "cell_type": "code",
   "execution_count": 91,
   "metadata": {},
   "outputs": [
    {
     "data": {
      "text/plain": [
       "array([ 1.11712597, -0.64981834,  0.67621946, -1.39174318, -0.61625582,\n",
       "       -1.2512632 ,  0.72711079, -1.00476128,  1.50997193,  0.81425585])"
      ]
     },
     "execution_count": 91,
     "metadata": {},
     "output_type": "execute_result"
    }
   ],
   "source": [
    "datos_test[0]"
   ]
  },
  {
   "cell_type": "code",
   "execution_count": 98,
   "metadata": {},
   "outputs": [
    {
     "data": {
      "text/plain": [
       "array([1, 1, 0, ..., 1, 1, 1], dtype=int64)"
      ]
     },
     "execution_count": 98,
     "metadata": {},
     "output_type": "execute_result"
    }
   ],
   "source": [
    "predicts = model.predict(datos_test)\n",
    "predicts"
   ]
  },
  {
   "cell_type": "code",
   "execution_count": 100,
   "metadata": {},
   "outputs": [
    {
     "data": {
      "text/plain": [
       "array([1, 1, 0, ..., 1, 1, 1], dtype=int64)"
      ]
     },
     "execution_count": 100,
     "metadata": {},
     "output_type": "execute_result"
    }
   ],
   "source": [
    "predicts"
   ]
  },
  {
   "cell_type": "code",
   "execution_count": 101,
   "metadata": {},
   "outputs": [],
   "source": [
    "df = pd.DataFrame(predicts) #convert to a dataframe\n"
   ]
  },
  {
   "cell_type": "code",
   "execution_count": 105,
   "metadata": {},
   "outputs": [],
   "source": [
    "columna_pred = [\"pred\"]\n",
    "df.columns = columna_pred"
   ]
  },
  {
   "cell_type": "code",
   "execution_count": 107,
   "metadata": {},
   "outputs": [],
   "source": [
    "df.to_csv(\"salida_svm.csv\",index=False)"
   ]
  },
  {
   "cell_type": "code",
   "execution_count": null,
   "metadata": {},
   "outputs": [],
   "source": []
  }
 ],
 "metadata": {
  "kernelspec": {
   "display_name": "Python 3.10.4 64-bit",
   "language": "python",
   "name": "python3"
  },
  "language_info": {
   "codemirror_mode": {
    "name": "ipython",
    "version": 3
   },
   "file_extension": ".py",
   "mimetype": "text/x-python",
   "name": "python",
   "nbconvert_exporter": "python",
   "pygments_lexer": "ipython3",
   "version": "3.10.4"
  },
  "orig_nbformat": 4,
  "vscode": {
   "interpreter": {
    "hash": "b9e6f0372556cc8639d21e94a77fd63dc6de2746dbd109d616677d40674a02dc"
   }
  }
 },
 "nbformat": 4,
 "nbformat_minor": 2
}
