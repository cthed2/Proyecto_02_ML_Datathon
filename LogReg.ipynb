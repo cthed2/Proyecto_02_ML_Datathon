{
 "cells": [
  {
   "cell_type": "code",
   "execution_count": 26,
   "metadata": {},
   "outputs": [],
   "source": [
    "import numpy as np\n",
    "import pandas as pd\n",
    "from sklearn.metrics import accuracy_score\n",
    "from sklearn.model_selection import train_test_split\n",
    "from sklearn.linear_model import LogisticRegression"
   ]
  },
  {
   "cell_type": "markdown",
   "metadata": {},
   "source": [
    "### Cargamos data, se elimina columna ID y se nombra a las columnas del dataframe"
   ]
  },
  {
   "cell_type": "code",
   "execution_count": 27,
   "metadata": {},
   "outputs": [
    {
     "data": {
      "text/html": [
       "<div>\n",
       "<style scoped>\n",
       "    .dataframe tbody tr th:only-of-type {\n",
       "        vertical-align: middle;\n",
       "    }\n",
       "\n",
       "    .dataframe tbody tr th {\n",
       "        vertical-align: top;\n",
       "    }\n",
       "\n",
       "    .dataframe thead th {\n",
       "        text-align: right;\n",
       "    }\n",
       "</style>\n",
       "<table border=\"1\" class=\"dataframe\">\n",
       "  <thead>\n",
       "    <tr style=\"text-align: right;\">\n",
       "      <th></th>\n",
       "      <th>Bloque_de_Almacen</th>\n",
       "      <th>Modo_de_Envio</th>\n",
       "      <th>Llamadas_de_atecion_cliente</th>\n",
       "      <th>Valoracion_de_clientes</th>\n",
       "      <th>Coste_del_producto</th>\n",
       "      <th>Compras_Anteriores</th>\n",
       "      <th>Importancia_del_producto</th>\n",
       "      <th>Genero</th>\n",
       "      <th>Descuento</th>\n",
       "      <th>Peso_en_gramos</th>\n",
       "      <th>A_Tiempo</th>\n",
       "    </tr>\n",
       "  </thead>\n",
       "  <tbody>\n",
       "    <tr>\n",
       "      <th>0</th>\n",
       "      <td>D</td>\n",
       "      <td>Flight</td>\n",
       "      <td>4</td>\n",
       "      <td>2</td>\n",
       "      <td>177</td>\n",
       "      <td>3</td>\n",
       "      <td>low</td>\n",
       "      <td>F</td>\n",
       "      <td>44</td>\n",
       "      <td>1233</td>\n",
       "      <td>1</td>\n",
       "    </tr>\n",
       "    <tr>\n",
       "      <th>1</th>\n",
       "      <td>F</td>\n",
       "      <td>Flight</td>\n",
       "      <td>4</td>\n",
       "      <td>5</td>\n",
       "      <td>216</td>\n",
       "      <td>2</td>\n",
       "      <td>low</td>\n",
       "      <td>M</td>\n",
       "      <td>59</td>\n",
       "      <td>3088</td>\n",
       "      <td>1</td>\n",
       "    </tr>\n",
       "    <tr>\n",
       "      <th>2</th>\n",
       "      <td>A</td>\n",
       "      <td>Flight</td>\n",
       "      <td>2</td>\n",
       "      <td>2</td>\n",
       "      <td>183</td>\n",
       "      <td>4</td>\n",
       "      <td>low</td>\n",
       "      <td>M</td>\n",
       "      <td>48</td>\n",
       "      <td>3374</td>\n",
       "      <td>1</td>\n",
       "    </tr>\n",
       "  </tbody>\n",
       "</table>\n",
       "</div>"
      ],
      "text/plain": [
       "  Bloque_de_Almacen Modo_de_Envio  Llamadas_de_atecion_cliente  \\\n",
       "0                 D        Flight                            4   \n",
       "1                 F        Flight                            4   \n",
       "2                 A        Flight                            2   \n",
       "\n",
       "   Valoracion_de_clientes  Coste_del_producto  Compras_Anteriores  \\\n",
       "0                       2                 177                   3   \n",
       "1                       5                 216                   2   \n",
       "2                       2                 183                   4   \n",
       "\n",
       "  Importancia_del_producto Genero  Descuento  Peso_en_gramos  A_Tiempo  \n",
       "0                      low      F         44            1233         1  \n",
       "1                      low      M         59            3088         1  \n",
       "2                      low      M         48            3374         1  "
      ]
     },
     "execution_count": 27,
     "metadata": {},
     "output_type": "execute_result"
    }
   ],
   "source": [
    "datos = pd.read_excel(\"E-Commerce_train.xlsx\")\n",
    "datos = datos.drop([\"ID\"], axis=1)\n",
    "columns_spanish = [\"Bloque_de_Almacen\",\"Modo_de_Envio\",\"Llamadas_de_atecion_cliente\",\"Valoracion_de_clientes\",\"Coste_del_producto\",\"Compras_Anteriores\",\"Importancia_del_producto\",\"Genero\",\"Descuento\",\"Peso_en_gramos\",\"A_Tiempo\"]\n",
    "datos.columns = columns_spanish\n",
    "datos.head(3)"
   ]
  },
  {
   "cell_type": "markdown",
   "metadata": {},
   "source": [
    "### Las variables categoricas las transformamos en ordinales."
   ]
  },
  {
   "cell_type": "code",
   "execution_count": 29,
   "metadata": {},
   "outputs": [],
   "source": [
    "datos[\"Bloque_de_Almacen\"].replace([\"A\", \"B\", \"C\", \"D\", \"F\"], [ 1, 2, 3, 4, 5], inplace = True)\n",
    "datos[\"Modo_de_Envio\"].replace([\"Ship\", \"Flight\", \"Road\"], [10, 20, 30], inplace = True)\n",
    "datos[\"Importancia_del_producto\"].replace([\"low\", \"medium\", \"high\"], [10, 20, 30], inplace = True)\n",
    "datos[\"Genero\"].replace([\"F\", \"M\"], [1, 0 ], inplace = True)"
   ]
  },
  {
   "cell_type": "markdown",
   "metadata": {},
   "source": [
    "### Nuestro data set lo dividimos en Variables Independientes (datos_x) y Variable Dependiente (datos_y)"
   ]
  },
  {
   "cell_type": "code",
   "execution_count": 30,
   "metadata": {},
   "outputs": [],
   "source": [
    "datos_x = datos[[\"Bloque_de_Almacen\",\"Modo_de_Envio\",\"Llamadas_de_atecion_cliente\",\"Valoracion_de_clientes\",\"Coste_del_producto\",\"Compras_Anteriores\",\"Importancia_del_producto\",\"Genero\",\"Descuento\",\"Peso_en_gramos\"]]\n",
    "datos_y = datos[datos.columns[-1]]\n",
    "datos_x = datos_x.to_numpy()\n",
    "datos_y = datos_y.to_numpy()"
   ]
  },
  {
   "cell_type": "markdown",
   "metadata": {},
   "source": [
    "### Transformamos nuestro dataframe en pandas a una matrix en numpy"
   ]
  },
  {
   "cell_type": "code",
   "execution_count": 31,
   "metadata": {},
   "outputs": [],
   "source": [
    "datos_x = datos_x.to_numpy()\n",
    "datos_y = datos_y.to_numpy()"
   ]
  },
  {
   "cell_type": "markdown",
   "metadata": {},
   "source": [
    "### Normalizamos los datos de entrada (variables independientes / datos_x)"
   ]
  },
  {
   "cell_type": "code",
   "execution_count": 87,
   "metadata": {},
   "outputs": [],
   "source": [
    "#Normalización de Datos:\n",
    "prom = datos_x.mean(axis=0)\n",
    "desv = datos_x.std(axis=0)\n",
    "#Recordar que estas variables prom y desv, son las que usaremos para normalizar nuestros datos de test, más adelante.\n",
    "datos_x = (datos_x - prom)/desv"
   ]
  },
  {
   "cell_type": "markdown",
   "metadata": {},
   "source": [
    "### Se subdivide la matrix para el entrenamiento y el test"
   ]
  },
  {
   "cell_type": "code",
   "execution_count": 88,
   "metadata": {},
   "outputs": [],
   "source": [
    "#Tamaño del test = 20% de la data de total\n",
    "#Se estable como random_state (raiz de aleatoriedad): 10\n",
    "\n",
    "X_train, X_test, y_train, y_test = train_test_split(datos_x, datos_y, train_size=0.8, test_size=0.2, random_state=10)"
   ]
  },
  {
   "cell_type": "markdown",
   "metadata": {},
   "source": [
    "### Se instancia el modelo de Regresión Logistica"
   ]
  },
  {
   "cell_type": "code",
   "execution_count": 90,
   "metadata": {},
   "outputs": [],
   "source": [
    "#Se convierte en un array las variables de entrada seleccionadas para entrenamiento:\n",
    "x_train_array = np.array(X_train)\n",
    "\n",
    "#Se instancia el modelo de regresion logistica en la variable logistic\n",
    "logistic = LogisticRegression() \n",
    "\n",
    "#Se entrena el modelo:\n",
    "model = logistic.fit(x_train_array, y_train)"
   ]
  },
  {
   "cell_type": "markdown",
   "metadata": {},
   "source": [
    "### Se calcula las predicciones"
   ]
  },
  {
   "cell_type": "code",
   "execution_count": 91,
   "metadata": {},
   "outputs": [],
   "source": [
    "#Recordar que la salida de una regresión logistica es 0 o 1.\n",
    "#Por defecto el modelo de Sklearn  el treshold lo asume como 0.5\n",
    "#Pero se puede modificar, como se verá más adelante:\n",
    "\n",
    "y_pred = logistic.predict(X_test)"
   ]
  },
  {
   "cell_type": "code",
   "execution_count": 94,
   "metadata": {},
   "outputs": [
    {
     "data": {
      "text/plain": [
       "array([1, 1, 1, ..., 0, 1, 1], dtype=int64)"
      ]
     },
     "execution_count": 94,
     "metadata": {},
     "output_type": "execute_result"
    }
   ],
   "source": [
    "#Se vizualiza la salida cuando el treshold es de 0.5:\n",
    "\n",
    "y_pred"
   ]
  },
  {
   "cell_type": "code",
   "execution_count": 95,
   "metadata": {},
   "outputs": [],
   "source": [
    "#Se \"extrae\" las probalidades de que la salida sea 0 o 1\n",
    "\n",
    "y_pred_prob = logistic.predict_proba(X_test)"
   ]
  },
  {
   "cell_type": "code",
   "execution_count": 92,
   "metadata": {},
   "outputs": [
    {
     "data": {
      "text/plain": [
       "array([[0.41817601, 0.58182399],\n",
       "       [0.00166827, 0.99833173],\n",
       "       [0.03926574, 0.96073426],\n",
       "       ...,\n",
       "       [0.60135799, 0.39864201],\n",
       "       [0.42461294, 0.57538706],\n",
       "       [0.49281954, 0.50718046]])"
      ]
     },
     "execution_count": 92,
     "metadata": {},
     "output_type": "execute_result"
    }
   ],
   "source": [
    "#La primera columna hace referencia a la probabilidad de que sea 0.\n",
    "#La segunda columna hace referencia a la probabilidad de que sea 1.\n",
    "\n",
    "y_pred_prob"
   ]
  },
  {
   "cell_type": "code",
   "execution_count": 96,
   "metadata": {},
   "outputs": [
    {
     "data": {
      "text/plain": [
       "array([0.58182399, 0.99833173, 0.96073426, ..., 0.39864201, 0.57538706,\n",
       "       0.50718046])"
      ]
     },
     "execution_count": 96,
     "metadata": {},
     "output_type": "execute_result"
    }
   ],
   "source": [
    "#Se escoge solo trabajar con la probabilidad de que sea 1:\n",
    "y_pred_prob[:,1]"
   ]
  },
  {
   "cell_type": "markdown",
   "metadata": {},
   "source": [
    "### El array: \"y_pred_prob[:,1]\", son las probabilidades de que la clase sea 1.\n",
    "* Es decir, si el primer valor del array es 0.4, tiene 40% de probabilidades de ser 1.\n",
    "* Otro ejemplo si el segundo valor del array es 0.9, tiene 90% de probabilidades de ser 1.\n",
    "\n",
    "##### Entonces, esto nos sirve para escoger el threshold, que favorezca el valor de la medida de RECALL.\n"
   ]
  },
  {
   "cell_type": "markdown",
   "metadata": {},
   "source": [
    "## Una grafica la curva que muestra la relación existente entre la PRECISIÓN Y el RECALL, para la regresión logistica con los datos de entrenamiento:"
   ]
  },
  {
   "cell_type": "code",
   "execution_count": 97,
   "metadata": {},
   "outputs": [
    {
     "data": {
      "text/plain": [
       "(0.0, 1.0)"
      ]
     },
     "execution_count": 97,
     "metadata": {},
     "output_type": "execute_result"
    },
    {
     "data": {
      "image/png": "[encoded data removed]",
      "text/plain": [
       "<Figure size 432x288 with 1 Axes>"
      ]
     },
     "metadata": {
      "needs_background": "light"
     },
     "output_type": "display_data"
    }
   ],
   "source": [
    "from sklearn.metrics import precision_recall_curve\n",
    "import matplotlib.pyplot as plt\n",
    "\n",
    "#Se calcula la precision y el recall con distintos thresholds:\n",
    "precision, recall, thresholds = precision_recall_curve(y_test, y_pred_prob[:,1]) \n",
    "\n",
    "#Se grafica las 2 curvas:\n",
    "plt.title(\"Precision-Recall vs Threshold Chart\")\n",
    "plt.plot(thresholds, precision[: -1], \"b--\", label=\"Precision\")\n",
    "plt.plot(thresholds, recall[: -1], \"r--\", label=\"Recall\")\n",
    "plt.ylabel(\"Precision, Recall\")\n",
    "plt.xlabel(\"Threshold\")\n",
    "plt.legend(loc=\"lower left\")\n",
    "plt.ylim([0,1])"
   ]
  },
  {
   "cell_type": "markdown",
   "metadata": {},
   "source": [
    "#### Se visualiza en la gráfica que nuestra precisión generada por el modelo de regresión logistica es de: 0.71"
   ]
  },
  {
   "cell_type": "markdown",
   "metadata": {},
   "source": [
    "### Finalmente se puede observar en la grafica, qué si baja el threshold a 0.2, el valor del RECALL se mantiene en casi 1, pero la precisión del modelo baja."
   ]
  },
  {
   "cell_type": "markdown",
   "metadata": {},
   "source": [
    "### Por este motivo se decide usar un treshold de 0.2 para la data del test (E-Commerce_test.xlsx)"
   ]
  },
  {
   "cell_type": "markdown",
   "metadata": {},
   "source": [
    "### TEST -> \"E-Commerce_test.csv\""
   ]
  },
  {
   "cell_type": "markdown",
   "metadata": {},
   "source": [
    "#### Se realiza el mismo preprocesamiento que se hizo con la data de entrenamiento:"
   ]
  },
  {
   "cell_type": "code",
   "execution_count": 48,
   "metadata": {},
   "outputs": [
    {
     "data": {
      "text/html": [
       "<div>\n",
       "<style scoped>\n",
       "    .dataframe tbody tr th:only-of-type {\n",
       "        vertical-align: middle;\n",
       "    }\n",
       "\n",
       "    .dataframe tbody tr th {\n",
       "        vertical-align: top;\n",
       "    }\n",
       "\n",
       "    .dataframe thead th {\n",
       "        text-align: right;\n",
       "    }\n",
       "</style>\n",
       "<table border=\"1\" class=\"dataframe\">\n",
       "  <thead>\n",
       "    <tr style=\"text-align: right;\">\n",
       "      <th></th>\n",
       "      <th>Bloque_de_Almacen</th>\n",
       "      <th>Modo_de_Envio</th>\n",
       "      <th>Llamadas_de_atecion_cliente</th>\n",
       "      <th>Valoracion_de_clientes</th>\n",
       "      <th>Coste_del_producto</th>\n",
       "      <th>Compras_Anteriores</th>\n",
       "      <th>Importancia_del_producto</th>\n",
       "      <th>Genero</th>\n",
       "      <th>Descuento</th>\n",
       "      <th>Peso_en_gramos</th>\n",
       "    </tr>\n",
       "  </thead>\n",
       "  <tbody>\n",
       "    <tr>\n",
       "      <th>0</th>\n",
       "      <td>F</td>\n",
       "      <td>Ship</td>\n",
       "      <td>5</td>\n",
       "      <td>1</td>\n",
       "      <td>189</td>\n",
       "      <td>2</td>\n",
       "      <td>medium</td>\n",
       "      <td>M</td>\n",
       "      <td>10</td>\n",
       "      <td>5248</td>\n",
       "    </tr>\n",
       "    <tr>\n",
       "      <th>1</th>\n",
       "      <td>D</td>\n",
       "      <td>Ship</td>\n",
       "      <td>5</td>\n",
       "      <td>3</td>\n",
       "      <td>150</td>\n",
       "      <td>2</td>\n",
       "      <td>high</td>\n",
       "      <td>F</td>\n",
       "      <td>9</td>\n",
       "      <td>4446</td>\n",
       "    </tr>\n",
       "    <tr>\n",
       "      <th>2</th>\n",
       "      <td>F</td>\n",
       "      <td>Ship</td>\n",
       "      <td>3</td>\n",
       "      <td>3</td>\n",
       "      <td>200</td>\n",
       "      <td>3</td>\n",
       "      <td>low</td>\n",
       "      <td>M</td>\n",
       "      <td>3</td>\n",
       "      <td>5739</td>\n",
       "    </tr>\n",
       "  </tbody>\n",
       "</table>\n",
       "</div>"
      ],
      "text/plain": [
       "  Bloque_de_Almacen Modo_de_Envio  Llamadas_de_atecion_cliente  \\\n",
       "0                 F          Ship                            5   \n",
       "1                 D          Ship                            5   \n",
       "2                 F          Ship                            3   \n",
       "\n",
       "   Valoracion_de_clientes  Coste_del_producto  Compras_Anteriores  \\\n",
       "0                       1                 189                   2   \n",
       "1                       3                 150                   2   \n",
       "2                       3                 200                   3   \n",
       "\n",
       "  Importancia_del_producto Genero  Descuento  Peso_en_gramos  \n",
       "0                   medium      M         10            5248  \n",
       "1                     high      F          9            4446  \n",
       "2                      low      M          3            5739  "
      ]
     },
     "execution_count": 48,
     "metadata": {},
     "output_type": "execute_result"
    }
   ],
   "source": [
    "datos_test = pd.read_excel(\"E-Commerce_test.xlsx\")\n",
    "datos_test = datos_test.drop([\"ID\"], axis=1)\n",
    "columns_spanish = [\"Bloque_de_Almacen\",\"Modo_de_Envio\",\"Llamadas_de_atecion_cliente\",\"Valoracion_de_clientes\",\"Coste_del_producto\",\"Compras_Anteriores\",\"Importancia_del_producto\",\"Genero\",\"Descuento\",\"Peso_en_gramos\",]\n",
    "datos_test.columns = columns_spanish\n",
    "datos_test.head(3)"
   ]
  },
  {
   "cell_type": "code",
   "execution_count": 49,
   "metadata": {},
   "outputs": [],
   "source": [
    "datos_test[\"Bloque_de_Almacen\"].replace([\"A\", \"B\", \"C\", \"D\", \"F\"], [ 1, 2, 3, 4, 5], inplace = True)\n",
    "datos_test[\"Modo_de_Envio\"].replace([\"Ship\", \"Flight\", \"Road\"], [10, 20, 30,], inplace = True)\n",
    "datos_test[\"Importancia_del_producto\"].replace([\"low\", \"medium\", \"high\"], [10, 20, 30,], inplace = True)\n",
    "datos_test[\"Genero\"].replace([\"F\", \"M\"], [1, 0 ], inplace = True)"
   ]
  },
  {
   "cell_type": "markdown",
   "metadata": {},
   "source": [
    "#### Al momento de normalizar, recordar, que se utilizan las variables de \"prom\" y \"desv\" han sido calculados con la data de entrenamiento, esto porque, estariamos sesgando el modelo si normalizamos con sus valores de media y desviación estandar."
   ]
  },
  {
   "cell_type": "code",
   "execution_count": 98,
   "metadata": {},
   "outputs": [],
   "source": [
    "datos_test = (datos_test - prom)/desv"
   ]
  },
  {
   "cell_type": "code",
   "execution_count": 51,
   "metadata": {},
   "outputs": [],
   "source": [
    "datos_test = datos_test.to_numpy()"
   ]
  },
  {
   "cell_type": "markdown",
   "metadata": {},
   "source": [
    "#### Se realiza la predicción:"
   ]
  },
  {
   "cell_type": "code",
   "execution_count": 52,
   "metadata": {},
   "outputs": [],
   "source": [
    "#Con threshold = 0.5\n",
    "y_test_pred = logistic.predict(datos_test)"
   ]
  },
  {
   "cell_type": "code",
   "execution_count": 99,
   "metadata": {},
   "outputs": [],
   "source": [
    "#Se calcula para las probabilidades de que sea de la clase 1 o de la clase 0.\n",
    "#Para luego porder seleccionar nuestro propio threshold\n",
    "y_test_pred_prob = logistic.predict_proba(datos_test)"
   ]
  },
  {
   "cell_type": "code",
   "execution_count": 100,
   "metadata": {},
   "outputs": [
    {
     "data": {
      "text/plain": [
       "array([0.98371829, 0.9780017 , 0.30784975, ..., 0.66616594, 0.34954096,\n",
       "       0.92593359])"
      ]
     },
     "execution_count": 100,
     "metadata": {},
     "output_type": "execute_result"
    }
   ],
   "source": [
    "#Se trabajara solo con las probabilidades de que sea la clase 1:\n",
    "y_test_pred_prob[:,1]"
   ]
  },
  {
   "cell_type": "markdown",
   "metadata": {},
   "source": [
    "#### Se crea un dataframe, en donde se calculará una columna con el threshold de 0.2"
   ]
  },
  {
   "cell_type": "code",
   "execution_count": 102,
   "metadata": {},
   "outputs": [],
   "source": [
    "#Se crea un dataframe con la variable que contiene las probabilidades de que sea la clase 1:\n",
    "df = pd.DataFrame(y_test_pred_prob[:,1], columns = ['pred_proba'])"
   ]
  },
  {
   "cell_type": "markdown",
   "metadata": {},
   "source": [
    "### Se hace una función a todos los valores de la columna llamada \"pred_proba\" y se selecciona un thresh = 0.2. Esta columna devolvera un valor de 1, si el valor de la columna \"pred_proba\" es mayor a 0.2 y un  0 si el valor es menor."
   ]
  },
  {
   "cell_type": "code",
   "execution_count": 103,
   "metadata": {},
   "outputs": [],
   "source": [
    "df[\"pred\"] = df[\"pred_proba\"].apply(lambda x: 1 if x >= 0.2 else 0)"
   ]
  },
  {
   "cell_type": "code",
   "execution_count": 104,
   "metadata": {},
   "outputs": [],
   "source": [
    "#Se selecciona la columna que sera enviada al dashboard para el calculo de RECALL\n",
    "df = df[[\"pred\"]]"
   ]
  },
  {
   "cell_type": "code",
   "execution_count": 105,
   "metadata": {},
   "outputs": [],
   "source": [
    "#Por último se carga el archivo en formato csv, sin indices:\n",
    "df.to_csv(\"cthed2.csv\",index=False)"
   ]
  },
  {
   "cell_type": "code",
   "execution_count": null,
   "metadata": {},
   "outputs": [],
   "source": []
  }
 ],
 "metadata": {
  "kernelspec": {
   "display_name": "Python 3.10.4 64-bit",
   "language": "python",
   "name": "python3"
  },
  "language_info": {
   "codemirror_mode": {
    "name": "ipython",
    "version": 3
   },
   "file_extension": ".py",
   "mimetype": "text/x-python",
   "name": "python",
   "nbconvert_exporter": "python",
   "pygments_lexer": "ipython3",
   "version": "3.10.4"
  },
  "orig_nbformat": 4,
  "vscode": {
   "interpreter": {
    "hash": "b9e6f0372556cc8639d21e94a77fd63dc6de2746dbd109d616677d40674a02dc"
   }
  }
 },
 "nbformat": 4,
 "nbformat_minor": 2
}
