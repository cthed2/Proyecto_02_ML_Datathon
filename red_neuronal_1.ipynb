{
  "cells": [
    {
      "cell_type": "code",
      "execution_count": 1,
      "metadata": {
        "id": "uhox_jpzlXuA"
      },
      "outputs": [],
      "source": [
        "#Liberias necesarias:\n",
        "import torch\n",
        "import torch.nn as nn\n",
        "import torch.nn.functional as F\n",
        "from torch.utils.data import random_split, TensorDataset\n",
        "import numpy as np \n",
        "import pandas as pd\n",
        "from sklearn.preprocessing import StandardScaler"
      ]
    },
    {
      "cell_type": "code",
      "execution_count": 2,
      "metadata": {
        "colab": {
          "base_uri": "https://localhost:8080/",
          "height": 207
        },
        "id": "UiShsbIslZvm",
        "outputId": "fbe949c5-6419-4950-fc79-8b8c9b51c19e"
      },
      "outputs": [
        {
          "data": {
            "text/html": [
              "<div>\n",
              "<style scoped>\n",
              "    .dataframe tbody tr th:only-of-type {\n",
              "        vertical-align: middle;\n",
              "    }\n",
              "\n",
              "    .dataframe tbody tr th {\n",
              "        vertical-align: top;\n",
              "    }\n",
              "\n",
              "    .dataframe thead th {\n",
              "        text-align: right;\n",
              "    }\n",
              "</style>\n",
              "<table border=\"1\" class=\"dataframe\">\n",
              "  <thead>\n",
              "    <tr style=\"text-align: right;\">\n",
              "      <th></th>\n",
              "      <th>Bloque_de_Almacen</th>\n",
              "      <th>Modo_de_Envio</th>\n",
              "      <th>Llamadas_de_atecion_cliente</th>\n",
              "      <th>Valoracion_de_clientes</th>\n",
              "      <th>Coste_del_producto</th>\n",
              "      <th>Compras_Anteriores</th>\n",
              "      <th>Importancia_del_producto</th>\n",
              "      <th>Genero</th>\n",
              "      <th>Descuento</th>\n",
              "      <th>Peso_en_gramos</th>\n",
              "      <th>A_Tiempo</th>\n",
              "    </tr>\n",
              "  </thead>\n",
              "  <tbody>\n",
              "    <tr>\n",
              "      <th>0</th>\n",
              "      <td>D</td>\n",
              "      <td>Flight</td>\n",
              "      <td>4</td>\n",
              "      <td>2</td>\n",
              "      <td>177</td>\n",
              "      <td>3</td>\n",
              "      <td>low</td>\n",
              "      <td>F</td>\n",
              "      <td>44</td>\n",
              "      <td>1233</td>\n",
              "      <td>1</td>\n",
              "    </tr>\n",
              "    <tr>\n",
              "      <th>1</th>\n",
              "      <td>F</td>\n",
              "      <td>Flight</td>\n",
              "      <td>4</td>\n",
              "      <td>5</td>\n",
              "      <td>216</td>\n",
              "      <td>2</td>\n",
              "      <td>low</td>\n",
              "      <td>M</td>\n",
              "      <td>59</td>\n",
              "      <td>3088</td>\n",
              "      <td>1</td>\n",
              "    </tr>\n",
              "    <tr>\n",
              "      <th>2</th>\n",
              "      <td>A</td>\n",
              "      <td>Flight</td>\n",
              "      <td>2</td>\n",
              "      <td>2</td>\n",
              "      <td>183</td>\n",
              "      <td>4</td>\n",
              "      <td>low</td>\n",
              "      <td>M</td>\n",
              "      <td>48</td>\n",
              "      <td>3374</td>\n",
              "      <td>1</td>\n",
              "    </tr>\n",
              "  </tbody>\n",
              "</table>\n",
              "</div>"
            ],
            "text/plain": [
              "  Bloque_de_Almacen Modo_de_Envio  Llamadas_de_atecion_cliente  \\\n",
              "0                 D        Flight                            4   \n",
              "1                 F        Flight                            4   \n",
              "2                 A        Flight                            2   \n",
              "\n",
              "   Valoracion_de_clientes  Coste_del_producto  Compras_Anteriores  \\\n",
              "0                       2                 177                   3   \n",
              "1                       5                 216                   2   \n",
              "2                       2                 183                   4   \n",
              "\n",
              "  Importancia_del_producto Genero  Descuento  Peso_en_gramos  A_Tiempo  \n",
              "0                      low      F         44            1233         1  \n",
              "1                      low      M         59            3088         1  \n",
              "2                      low      M         48            3374         1  "
            ]
          },
          "execution_count": 2,
          "metadata": {},
          "output_type": "execute_result"
        }
      ],
      "source": [
        "#Carga de datos:\n",
        "datos = pd.read_excel(\"E-Commerce_train.xlsx\")\n",
        "datos = datos.drop([\"ID\"], axis=1)\n",
        "columns_spanish = [\"Bloque_de_Almacen\",\"Modo_de_Envio\",\"Llamadas_de_atecion_cliente\",\"Valoracion_de_clientes\",\"Coste_del_producto\",\"Compras_Anteriores\",\"Importancia_del_producto\",\"Genero\",\"Descuento\",\"Peso_en_gramos\",\"A_Tiempo\"]\n",
        "datos.columns = columns_spanish\n",
        "datos.head(3)"
      ]
    },
    {
      "cell_type": "code",
      "execution_count": 7,
      "metadata": {
        "colab": {
          "base_uri": "https://localhost:8080/"
        },
        "id": "UfDlblAVlbmj",
        "outputId": "9a5c5645-963d-45b9-adce-181403f19786"
      },
      "outputs": [
        {
          "data": {
            "text/plain": [
              "0    1\n",
              "1    1\n",
              "2    1\n",
              "3    1\n",
              "4    1\n",
              "Name: A_Tiempo, dtype: int64"
            ]
          },
          "execution_count": 7,
          "metadata": {},
          "output_type": "execute_result"
        }
      ],
      "source": [
        "# Separamos la ultima columna para que sea variable dependiente o salida.\n",
        "datos_y = datos[datos.columns[-1]]\n",
        "datos_y.head()"
      ]
    },
    {
      "cell_type": "code",
      "execution_count": 3,
      "metadata": {
        "id": "RtkPaKV0nmDr"
      },
      "outputs": [],
      "source": [
        "#Las columnas categoricas las transformamos en ordinales:\n",
        "datos[\"Bloque_de_Almacen\"].replace([\"A\", \"B\", \"C\", \"D\", \"F\"], [ 1, 2, 3, 4, 5], inplace = True)\n",
        "datos[\"Modo_de_Envio\"].replace([\"Ship\", \"Flight\", \"Road\"], [10, 20, 30,], inplace = True)\n",
        "datos[\"Importancia_del_producto\"].replace([\"low\", \"medium\", \"high\"], [10, 20, 30,], inplace = True)\n",
        "datos[\"Genero\"].replace([\"F\", \"M\"], [1, 0 ], inplace = True)"
      ]
    },
    {
      "cell_type": "code",
      "execution_count": 4,
      "metadata": {
        "id": "j40aGU0wledD"
      },
      "outputs": [],
      "source": [
        "#Se seleciona del data frame original, las variables independientes:\n",
        "datos_x = datos[[\"Bloque_de_Almacen\",\"Modo_de_Envio\",\"Llamadas_de_atecion_cliente\",\"Valoracion_de_clientes\",\"Coste_del_producto\",\"Compras_Anteriores\",\"Importancia_del_producto\",\"Genero\",\"Descuento\",\"Peso_en_gramos\"]]"
      ]
    },
    {
      "cell_type": "code",
      "execution_count": 5,
      "metadata": {
        "colab": {
          "base_uri": "https://localhost:8080/"
        },
        "id": "ixIbwzfelhSE",
        "outputId": "41fb7890-e83c-409f-e8b5-175f50b84347"
      },
      "outputs": [
        {
          "name": "stdout",
          "output_type": "stream",
          "text": [
            "(8999, 10)\n"
          ]
        }
      ],
      "source": [
        "#Se estandariza la data:\n",
        "escalador = StandardScaler()\n",
        "datos_x = escalador.fit_transform(datos_x)\n",
        "print(datos_x.shape)"
      ]
    },
    {
      "cell_type": "code",
      "execution_count": 8,
      "metadata": {
        "id": "Z6Ic8MTplkDM"
      },
      "outputs": [],
      "source": [
        "#Se separan los datos, en datos de entrenamiento y testeo\n",
        "from sklearn.model_selection import train_test_split\n",
        "X_train, X_test, y_train, y_test = train_test_split(datos_x, datos_y, test_size = 0.2, random_state = 0)"
      ]
    },
    {
      "cell_type": "code",
      "execution_count": 9,
      "metadata": {
        "colab": {
          "base_uri": "https://localhost:8080/"
        },
        "id": "hgQT2YNAlmgs",
        "outputId": "028f4f64-3aa6-49fe-987b-083dd0b867d6"
      },
      "outputs": [
        {
          "name": "stdout",
          "output_type": "stream",
          "text": [
            "X Train: (7199, 10), X Test: (1800, 10), y_train: (7199,), y_test: (1800,)\n"
          ]
        }
      ],
      "source": [
        "print(\"X Train: {}, X Test: {}, y_train: {}, y_test: {}\".format(X_train.shape, X_test.shape, y_train.shape, y_test.shape))"
      ]
    },
    {
      "cell_type": "code",
      "execution_count": 10,
      "metadata": {
        "colab": {
          "base_uri": "https://localhost:8080/"
        },
        "id": "M1xOR5GOlpMU",
        "outputId": "8a3754ac-37b6-42c2-93dd-95a1165bb1bd"
      },
      "outputs": [
        {
          "data": {
            "text/plain": [
              "10"
            ]
          },
          "execution_count": 10,
          "metadata": {},
          "output_type": "execute_result"
        }
      ],
      "source": [
        "n_entradas = X_train.shape[1]\n",
        "n_entradas"
      ]
    },
    {
      "cell_type": "code",
      "execution_count": 13,
      "metadata": {},
      "outputs": [],
      "source": [
        "t_X_train = torch.Tensor(X_train).to(\"cpu\") "
      ]
    },
    {
      "cell_type": "code",
      "execution_count": 14,
      "metadata": {
        "id": "deitpt2AlqnN"
      },
      "outputs": [],
      "source": [
        "t_X_train = torch.Tensor(X_train).to(\"cpu\") \n",
        "t_X_test = torch.Tensor(X_test).to(\"cpu\")\n",
        "t_y_train = torch.Tensor(y_train.values).to(\"cpu\")\n",
        "t_y_test = torch.Tensor(y_test.values).to(\"cpu\")\n",
        "t_y_train = t_y_train[:,None]\n",
        "t_y_test = t_y_test[:, None]"
      ]
    },
    {
      "cell_type": "code",
      "execution_count": 15,
      "metadata": {
        "colab": {
          "base_uri": "https://localhost:8080/"
        },
        "id": "kQclVQQAlsIk",
        "outputId": "aa3d98bf-6b56-46e1-f72b-a5d44b6d12a9"
      },
      "outputs": [
        {
          "name": "stdout",
          "output_type": "stream",
          "text": [
            "(tensor([-1.5651, -0.6354, -0.8913,  0.0035,  0.8789, -0.9866, -0.9447, -1.0090,\n",
            "        -0.6953,  0.9808]), tensor([0.]))\n"
          ]
        }
      ],
      "source": [
        "test = TensorDataset(t_X_test, t_y_test)\n",
        "print(test[0])"
      ]
    },
    {
      "cell_type": "code",
      "execution_count": 16,
      "metadata": {
        "colab": {
          "base_uri": "https://localhost:8080/"
        },
        "id": "PYjq4L-bluPk",
        "outputId": "08599477-a3e9-4cc4-c0fb-948021ed1225"
      },
      "outputs": [
        {
          "data": {
            "text/plain": [
              "tensor([[0.],\n",
              "        [1.],\n",
              "        [1.],\n",
              "        ...,\n",
              "        [1.],\n",
              "        [0.],\n",
              "        [1.]])"
            ]
          },
          "execution_count": 16,
          "metadata": {},
          "output_type": "execute_result"
        }
      ],
      "source": [
        "t_y_train"
      ]
    },
    {
      "cell_type": "code",
      "execution_count": 17,
      "metadata": {
        "id": "HubNEgf0lxA0"
      },
      "outputs": [],
      "source": [
        "#Modelo de red neuronal totamente conectada de 3 capas:\n",
        "#El modelo de He (Net_He), significa que los parametros(w) no se inicia con valores cercanos a 0,\n",
        "#sino en cambio en relación a la cantidad de neuronas (n) en su respectiva capa: sqrt(n/2).\n",
        "\n",
        "#Se crea la case Net_He que hereda de la clase torch nn.Module:\n",
        "class Net_He(nn.Module):\n",
        "    \n",
        "    def __init__(self, n_entradas):\n",
        "        #Se hereda se la clase nn.Module, la clase Net_He:\n",
        "        super(Net_He, self).__init__()\n",
        "        #Estrutura de la red neuronal:\n",
        "        self.linear1 = nn.Linear(n_entradas, 8)\n",
        "        self.linear2 = nn.Linear(8, 3)\n",
        "        self.linear3 = nn.Linear(3, 1)\n",
        "    \n",
        "    def forward(self, inputs):\n",
        "        #Se seleciona las funciones de activacion no lineal para cada una de las salidas de cada capa de la red neuronal:\n",
        "        pred_1 = torch.relu(input=self.linear1(inputs))\n",
        "        pred_2 = torch.relu(input=self.linear2(pred_1))\n",
        "        pred_f = torch.sigmoid(input=self.linear3(pred_2))\n",
        "\n",
        "        #Nos retorna un  valor que va de  0 a 1, el cual es la probabilidad de que los valores de las variables\n",
        "        # independientes, de un ejemplo, pertenezcan a la clase 1.  \n",
        "        return pred_f"
      ]
    },
    {
      "cell_type": "code",
      "execution_count": 23,
      "metadata": {
        "colab": {
          "base_uri": "https://localhost:8080/"
        },
        "id": "KyUgN6salzPk",
        "outputId": "92325c72-b9e7-4df1-90dc-f6338c35e03e"
      },
      "outputs": [
        {
          "name": "stdout",
          "output_type": "stream",
          "text": [
            "CPU times: total: 0 ns\n",
            "Wall time: 0 ns\n",
            "Arquitectura del modelo: Net_He(\n",
            "  (linear1): Linear(in_features=10, out_features=8, bias=True)\n",
            "  (linear2): Linear(in_features=8, out_features=3, bias=True)\n",
            "  (linear3): Linear(in_features=3, out_features=1, bias=True)\n",
            ")\n",
            "Entranando el modelo\n",
            "\n",
            "Epoch 100 \t Loss: 0.6531\n",
            "Accuracy: 60.55555725097656\n",
            "\n",
            "Epoch 200 \t Loss: 0.5591\n",
            "Accuracy: 66.94444274902344\n",
            "\n",
            "Epoch 300 \t Loss: 0.5134\n",
            "Accuracy: 68.88888549804688\n",
            "\n",
            "Epoch 400 \t Loss: 0.4975\n",
            "Accuracy: 68.38888549804688\n",
            "\n",
            "Epoch 500 \t Loss: 0.491\n",
            "Accuracy: 68.38888549804688\n",
            "\n",
            "Epoch 600 \t Loss: 0.4865\n",
            "Accuracy: 68.11111450195312\n",
            "\n",
            "Epoch 700 \t Loss: 0.4824\n",
            "Accuracy: 68.27777862548828\n",
            "\n",
            "Epoch 800 \t Loss: 0.4793\n",
            "Accuracy: 68.05555725097656\n",
            "\n",
            "Epoch 900 \t Loss: 0.4766\n",
            "Accuracy: 67.72222137451172\n",
            "\n",
            "Epoch 1000 \t Loss: 0.4741\n",
            "Accuracy: 67.27777862548828\n",
            "\n",
            "Epoch 1100 \t Loss: 0.4722\n",
            "Accuracy: 67.38888549804688\n",
            "\n",
            "Epoch 1200 \t Loss: 0.4706\n",
            "Accuracy: 67.61111450195312\n",
            "Accuracy final: 67.6111\n"
          ]
        }
      ],
      "source": [
        "# Loop de Entrenamiento.\n",
        "\n",
        "#Se define los hiperparametros\n",
        "\n",
        "%time\n",
        "lr = 0.001  #Learning rate\n",
        "epochs = 1200   #Cantidad de  Epocas\n",
        "\n",
        "estatus_print = 100 # Cada cuantas epocas mostrar el valor de la precisión y el tiempo transcurrido:\n",
        "\n",
        "#Se instancia el modelo Net_he en model, con la variable de \n",
        "#n_entradas(cantidas de columnas de los datos de entrenamiento)\n",
        "\n",
        "model = Net_He(n_entradas=n_entradas)\n",
        "#Se devine que la función se contos sera Binary Cross Entropy (por solo tener 2 clase_: 1 o 0) \n",
        "loss_fn = nn.BCELoss()\n",
        "#Se selecciona el optimizador a usar, en este caso Adam:\n",
        "optimizer = torch.optim.Adam(params=model.parameters(), lr=lr)\n",
        "\n",
        "print(\"Arquitectura del modelo: {}\".format(model))\n",
        "\n",
        "#Se guarda en un dataframe los valores que toman: epoch/Loss/Accuracy\n",
        "historico = pd.DataFrame()\n",
        "\n",
        "print(\"Entranando el modelo\")\n",
        "\n",
        "#Se entrena el modelo por epoch:\n",
        "for epoch in range(1, epochs+1):\n",
        "    #se instancia el modelo (red neruronal)\n",
        "    y_pred= model(t_X_train)\n",
        "    #se calcula la perdida\n",
        "    loss = loss_fn(input=y_pred, target=t_y_train)\n",
        "    #Se guarda los resultados de las ecuaciones diferenciales de cada tensor, cuando se realiza \n",
        "    #la retropropagación\n",
        "    loss.backward()\n",
        "    #Los gradientes toman el valor de 0 en cada ciclo de entrenamiento: \n",
        "    optimizer.step()\n",
        "    optimizer.zero_grad()\n",
        "    \n",
        "    if epoch % estatus_print == 0:\n",
        "        print(f\"\\nEpoch {epoch} \\t Loss: {round(loss.item(), 4)}\")\n",
        "    \n",
        "    #Para calcular el acuaracy del modelo, segun las cantiada de iteraciones que se realicen:\n",
        "    with torch.no_grad():\n",
        "        y_pred = model(t_X_test)\n",
        "        y_pred_class = y_pred.round()\n",
        "        correct = (y_pred_class == t_y_test).sum()\n",
        "        accuracy = 100 * correct / float(len(t_y_test))\n",
        "        if epoch % estatus_print == 0:\n",
        "            print(\"Accuracy: {}\".format(accuracy.item()))\n",
        "    \n",
        "    df_tmp = pd.DataFrame(data={\n",
        "        'Epoch': epoch,\n",
        "        'Loss': round(loss.item(), 4),\n",
        "        'Accuracy': round(accuracy.item(), 4)\n",
        "    }, index=[0])\n",
        "    historico = pd.concat(objs=[historico, df_tmp], ignore_index=True, sort=False)\n",
        "\n",
        "print(\"Accuracy final: {}\".format(round(accuracy.item(), 4)))"
      ]
    },
    {
      "cell_type": "markdown",
      "metadata": {},
      "source": [
        "### Como se observa se llega una precision del 67.6%"
      ]
    },
    {
      "cell_type": "code",
      "execution_count": 24,
      "metadata": {
        "colab": {
          "base_uri": "https://localhost:8080/",
          "height": 634
        },
        "id": "WqmX5qPjl2I0",
        "outputId": "e5fa639c-ec1e-483f-ffb0-5821233c62e7"
      },
      "outputs": [
        {
          "data": {
            "image/png": "[encoded data removed]",
            "text/plain": [
              "<Figure size 720x720 with 1 Axes>"
            ]
          },
          "metadata": {
            "needs_background": "light"
          },
          "output_type": "display_data"
        }
      ],
      "source": [
        "#Se gráfica el cambio en la perdida (Loss) por cada epoca:\n",
        "\n",
        "import matplotlib.pyplot as plt\n",
        "%matplotlib inline\n",
        "\n",
        "plt.figure(figsize=(10, 10))\n",
        "plt.plot(historico['Epoch'], historico['Loss'], label='Loss')\n",
        "plt.title(\"Loss\", fontsize=25)\n",
        "plt.xlabel(\"Epoch\", fontsize=12)\n",
        "plt.ylabel(\"Loss\", fontsize=12)\n",
        "plt.grid()\n",
        "plt.show()"
      ]
    },
    {
      "cell_type": "code",
      "execution_count": 25,
      "metadata": {
        "colab": {
          "base_uri": "https://localhost:8080/",
          "height": 634
        },
        "id": "IBxvw6h0l5EE",
        "outputId": "109a0d15-b1bb-4ac5-eaa3-40db7699e88d"
      },
      "outputs": [
        {
          "data": {
            "image/png": "[encoded data removed]",
            "text/plain": [
              "<Figure size 720x720 with 1 Axes>"
            ]
          },
          "metadata": {
            "needs_background": "light"
          },
          "output_type": "display_data"
        }
      ],
      "source": [
        "#Se gráfica la precision del modelo (Accuracy):\n",
        "\n",
        "plt.figure(figsize=(10, 10))\n",
        "plt.plot(historico['Epoch'], historico['Accuracy'], label='Accuracy')\n",
        "plt.title(\"Accuracy\", fontsize=25)\n",
        "plt.xlabel(\"Epoch\", fontsize=12)\n",
        "plt.ylabel(\"Accuracy\", fontsize=12)\n",
        "plt.grid()\n",
        "plt.show()"
      ]
    },
    {
      "cell_type": "markdown",
      "metadata": {
        "id": "p8bQ1qodKBJU"
      },
      "source": [
        "## Probando con \"E-Commerce_test.xlsx\""
      ]
    },
    {
      "cell_type": "code",
      "execution_count": 90,
      "metadata": {
        "colab": {
          "base_uri": "https://localhost:8080/",
          "height": 207
        },
        "id": "v-utBchgGMAO",
        "outputId": "9b37488b-cc55-4329-e117-c2cf0f97caa7"
      },
      "outputs": [
        {
          "data": {
            "text/html": [
              "\n",
              "  <div id=\"df-6faf6f76-e93b-4904-adc1-6aea7e756423\">\n",
              "    <div class=\"colab-df-container\">\n",
              "      <div>\n",
              "<style scoped>\n",
              "    .dataframe tbody tr th:only-of-type {\n",
              "        vertical-align: middle;\n",
              "    }\n",
              "\n",
              "    .dataframe tbody tr th {\n",
              "        vertical-align: top;\n",
              "    }\n",
              "\n",
              "    .dataframe thead th {\n",
              "        text-align: right;\n",
              "    }\n",
              "</style>\n",
              "<table border=\"1\" class=\"dataframe\">\n",
              "  <thead>\n",
              "    <tr style=\"text-align: right;\">\n",
              "      <th></th>\n",
              "      <th>Bloque_de_Almacen</th>\n",
              "      <th>Modo_de_Envio</th>\n",
              "      <th>Llamadas_de_atecion_cliente</th>\n",
              "      <th>Valoracion_de_clientes</th>\n",
              "      <th>Coste_del_producto</th>\n",
              "      <th>Compras_Anteriores</th>\n",
              "      <th>Importancia_del_producto</th>\n",
              "      <th>Genero</th>\n",
              "      <th>Descuento</th>\n",
              "      <th>Peso_en_gramos</th>\n",
              "    </tr>\n",
              "  </thead>\n",
              "  <tbody>\n",
              "    <tr>\n",
              "      <th>0</th>\n",
              "      <td>F</td>\n",
              "      <td>Ship</td>\n",
              "      <td>5</td>\n",
              "      <td>1</td>\n",
              "      <td>189</td>\n",
              "      <td>2</td>\n",
              "      <td>medium</td>\n",
              "      <td>M</td>\n",
              "      <td>10</td>\n",
              "      <td>5248</td>\n",
              "    </tr>\n",
              "    <tr>\n",
              "      <th>1</th>\n",
              "      <td>D</td>\n",
              "      <td>Ship</td>\n",
              "      <td>5</td>\n",
              "      <td>3</td>\n",
              "      <td>150</td>\n",
              "      <td>2</td>\n",
              "      <td>high</td>\n",
              "      <td>F</td>\n",
              "      <td>9</td>\n",
              "      <td>4446</td>\n",
              "    </tr>\n",
              "    <tr>\n",
              "      <th>2</th>\n",
              "      <td>F</td>\n",
              "      <td>Ship</td>\n",
              "      <td>3</td>\n",
              "      <td>3</td>\n",
              "      <td>200</td>\n",
              "      <td>3</td>\n",
              "      <td>low</td>\n",
              "      <td>M</td>\n",
              "      <td>3</td>\n",
              "      <td>5739</td>\n",
              "    </tr>\n",
              "  </tbody>\n",
              "</table>\n",
              "</div>\n",
              "      <button class=\"colab-df-convert\" onclick=\"convertToInteractive('df-6faf6f76-e93b-4904-adc1-6aea7e756423')\"\n",
              "              title=\"Convert this dataframe to an interactive table.\"\n",
              "              style=\"display:none;\">\n",
              "        \n",
              "  <svg xmlns=\"http://www.w3.org/2000/svg\" height=\"24px\"viewBox=\"0 0 24 24\"\n",
              "       width=\"24px\">\n",
              "    <path d=\"M0 0h24v24H0V0z\" fill=\"none\"/>\n",
              "    <path d=\"M18.56 5.44l.94 2.06.94-2.06 2.06-.94-2.06-.94-.94-2.06-.94 2.06-2.06.94zm-11 1L8.5 8.5l.94-2.06 2.06-.94-2.06-.94L8.5 2.5l-.94 2.06-2.06.94zm10 10l.94 2.06.94-2.06 2.06-.94-2.06-.94-.94-2.06-.94 2.06-2.06.94z\"/><path d=\"M17.41 7.96l-1.37-1.37c-.4-.4-.92-.59-1.43-.59-.52 0-1.04.2-1.43.59L10.3 9.45l-7.72 7.72c-.78.78-.78 2.05 0 2.83L4 21.41c.39.39.9.59 1.41.59.51 0 1.02-.2 1.41-.59l7.78-7.78 2.81-2.81c.8-.78.8-2.07 0-2.86zM5.41 20L4 18.59l7.72-7.72 1.47 1.35L5.41 20z\"/>\n",
              "  </svg>\n",
              "      </button>\n",
              "      \n",
              "  <style>\n",
              "    .colab-df-container {\n",
              "      display:flex;\n",
              "      flex-wrap:wrap;\n",
              "      gap: 12px;\n",
              "    }\n",
              "\n",
              "    .colab-df-convert {\n",
              "      background-color: #E8F0FE;\n",
              "      border: none;\n",
              "      border-radius: 50%;\n",
              "      cursor: pointer;\n",
              "      display: none;\n",
              "      fill: #1967D2;\n",
              "      height: 32px;\n",
              "      padding: 0 0 0 0;\n",
              "      width: 32px;\n",
              "    }\n",
              "\n",
              "    .colab-df-convert:hover {\n",
              "      background-color: #E2EBFA;\n",
              "      box-shadow: 0px 1px 2px rgba(60, 64, 67, 0.3), 0px 1px 3px 1px rgba(60, 64, 67, 0.15);\n",
              "      fill: #174EA6;\n",
              "    }\n",
              "\n",
              "    [theme=dark] .colab-df-convert {\n",
              "      background-color: #3B4455;\n",
              "      fill: #D2E3FC;\n",
              "    }\n",
              "\n",
              "    [theme=dark] .colab-df-convert:hover {\n",
              "      background-color: #434B5C;\n",
              "      box-shadow: 0px 1px 3px 1px rgba(0, 0, 0, 0.15);\n",
              "      filter: drop-shadow(0px 1px 2px rgba(0, 0, 0, 0.3));\n",
              "      fill: #FFFFFF;\n",
              "    }\n",
              "  </style>\n",
              "\n",
              "      <script>\n",
              "        const buttonEl =\n",
              "          document.querySelector('#df-6faf6f76-e93b-4904-adc1-6aea7e756423 button.colab-df-convert');\n",
              "        buttonEl.style.display =\n",
              "          google.colab.kernel.accessAllowed ? 'block' : 'none';\n",
              "\n",
              "        async function convertToInteractive(key) {\n",
              "          const element = document.querySelector('#df-6faf6f76-e93b-4904-adc1-6aea7e756423');\n",
              "          const dataTable =\n",
              "            await google.colab.kernel.invokeFunction('convertToInteractive',\n",
              "                                                     [key], {});\n",
              "          if (!dataTable) return;\n",
              "\n",
              "          const docLinkHtml = 'Like what you see? Visit the ' +\n",
              "            '<a target=\"_blank\" href=https://colab.research.google.com/notebooks/data_table.ipynb>data table notebook</a>'\n",
              "            + ' to learn more about interactive tables.';\n",
              "          element.innerHTML = '';\n",
              "          dataTable['output_type'] = 'display_data';\n",
              "          await google.colab.output.renderOutput(dataTable, element);\n",
              "          const docLink = document.createElement('div');\n",
              "          docLink.innerHTML = docLinkHtml;\n",
              "          element.appendChild(docLink);\n",
              "        }\n",
              "      </script>\n",
              "    </div>\n",
              "  </div>\n",
              "  "
            ],
            "text/plain": [
              "  Bloque_de_Almacen Modo_de_Envio  Llamadas_de_atecion_cliente  \\\n",
              "0                 F          Ship                            5   \n",
              "1                 D          Ship                            5   \n",
              "2                 F          Ship                            3   \n",
              "\n",
              "   Valoracion_de_clientes  Coste_del_producto  Compras_Anteriores  \\\n",
              "0                       1                 189                   2   \n",
              "1                       3                 150                   2   \n",
              "2                       3                 200                   3   \n",
              "\n",
              "  Importancia_del_producto Genero  Descuento  Peso_en_gramos  \n",
              "0                   medium      M         10            5248  \n",
              "1                     high      F          9            4446  \n",
              "2                      low      M          3            5739  "
            ]
          },
          "execution_count": 90,
          "metadata": {},
          "output_type": "execute_result"
        }
      ],
      "source": [
        "datos_test = pd.read_excel(\"E-Commerce_test.xlsx\")\n",
        "datos_test = datos_test.drop([\"ID\"], axis=1)\n",
        "columns_spanish = [\"Bloque_de_Almacen\",\"Modo_de_Envio\",\"Llamadas_de_atecion_cliente\",\"Valoracion_de_clientes\",\"Coste_del_producto\",\"Compras_Anteriores\",\"Importancia_del_producto\",\"Genero\",\"Descuento\",\"Peso_en_gramos\",]\n",
        "datos_test.columns = columns_spanish\n",
        "datos_test.head(3)"
      ]
    },
    {
      "cell_type": "code",
      "execution_count": 91,
      "metadata": {
        "id": "PkcNS0jqHzwm"
      },
      "outputs": [],
      "source": [
        "datos_test[\"Bloque_de_Almacen\"].replace([\"A\", \"B\", \"C\", \"D\", \"F\"], [ 1, 2, 3, 4, 5], inplace = True)\n",
        "datos_test[\"Modo_de_Envio\"].replace([\"Ship\", \"Flight\", \"Road\"], [10, 20, 30,], inplace = True)\n",
        "datos_test[\"Importancia_del_producto\"].replace([\"low\", \"medium\", \"high\"], [10, 20, 30,], inplace = True)\n",
        "datos_test[\"Genero\"].replace([\"F\", \"M\"], [1, 0 ], inplace = True)"
      ]
    },
    {
      "cell_type": "code",
      "execution_count": 92,
      "metadata": {
        "colab": {
          "base_uri": "https://localhost:8080/"
        },
        "id": "JFnCv6DfGteI",
        "outputId": "d4ed3ee8-72f4-4e42-cd7f-519edc493298"
      },
      "outputs": [
        {
          "name": "stdout",
          "output_type": "stream",
          "text": [
            "[[ 1.11740536 -0.64998085  0.67638858 ... -1.00501256  1.51034956\n",
            "   0.81445949]\n",
            " [ 0.44649251 -0.64998085  0.67638858 ...  0.99501244  1.16599262\n",
            "   0.34472775]\n",
            " [ 1.11740536 -0.64998085 -1.083894   ... -1.00501256 -0.90014906\n",
            "   1.1020384 ]\n",
            " ...\n",
            " [-0.22442035 -0.64998085  0.67638858 ...  0.99501244 -0.55579211\n",
            "  -1.58281235]\n",
            " [ 1.11740536 -0.64998085  0.67638858 ... -1.00501256 -1.244506\n",
            "  -1.55059882]\n",
            " [ 0.44649251 -0.64998085 -1.96403529 ...  0.99501244  0.13292178\n",
            "  -1.29933334]]\n"
          ]
        }
      ],
      "source": [
        "escalador = StandardScaler()\n",
        "datos_test = escalador.fit_transform(datos_test)\n",
        "print(datos_test)"
      ]
    },
    {
      "cell_type": "code",
      "execution_count": 93,
      "metadata": {
        "colab": {
          "base_uri": "https://localhost:8080/"
        },
        "id": "aw2JpOR6Gxgu",
        "outputId": "88ad696b-b5b9-420f-c936-5c5c6c1226f5"
      },
      "outputs": [
        {
          "data": {
            "text/plain": [
              "array([-0.22442035, -0.64998085, -0.20375271, -0.68562525, -0.48688938,\n",
              "       -1.25157614,  0.72729264, -1.00501256,  1.51034956,  0.45835363])"
            ]
          },
          "execution_count": 93,
          "metadata": {},
          "output_type": "execute_result"
        }
      ],
      "source": [
        "datos_test[5]"
      ]
    },
    {
      "cell_type": "code",
      "execution_count": 94,
      "metadata": {
        "id": "foa_YumdHBku"
      },
      "outputs": [],
      "source": [
        "datos_test= torch.from_numpy(datos_test).float().to(\"cpu\")"
      ]
    },
    {
      "cell_type": "code",
      "execution_count": 95,
      "metadata": {
        "colab": {
          "base_uri": "https://localhost:8080/"
        },
        "id": "_8ybsn_EJ9Kr",
        "outputId": "5d980e71-6151-4b8a-cfeb-7feba787574b"
      },
      "outputs": [
        {
          "data": {
            "text/plain": [
              "tensor([[ 1.1174, -0.6500,  0.6764,  ..., -1.0050,  1.5103,  0.8145],\n",
              "        [ 0.4465, -0.6500,  0.6764,  ...,  0.9950,  1.1660,  0.3447],\n",
              "        [ 1.1174, -0.6500, -1.0839,  ..., -1.0050, -0.9001,  1.1020],\n",
              "        ...,\n",
              "        [-0.2244, -0.6500,  0.6764,  ...,  0.9950, -0.5558, -1.5828],\n",
              "        [ 1.1174, -0.6500,  0.6764,  ..., -1.0050, -1.2445, -1.5506],\n",
              "        [ 0.4465, -0.6500, -1.9640,  ...,  0.9950,  0.1329, -1.2993]])"
            ]
          },
          "execution_count": 95,
          "metadata": {},
          "output_type": "execute_result"
        }
      ],
      "source": [
        "datos_test"
      ]
    },
    {
      "cell_type": "code",
      "execution_count": 48,
      "metadata": {
        "colab": {
          "base_uri": "https://localhost:8080/"
        },
        "id": "NfmPs4Jll6NU",
        "outputId": "a75645ab-bf26-4087-8ddf-15e6885fe9e3"
      },
      "outputs": [
        {
          "data": {
            "text/plain": [
              "tensor([ 0.4473,  0.6922, -0.0133,  1.4189,  0.2162, -0.9866,  0.5943,  0.9910,\n",
              "         0.3392,  0.1521])"
            ]
          },
          "execution_count": 48,
          "metadata": {},
          "output_type": "execute_result"
        }
      ],
      "source": [
        "t_X_test[5]"
      ]
    },
    {
      "cell_type": "code",
      "execution_count": 124,
      "metadata": {
        "colab": {
          "base_uri": "https://localhost:8080/"
        },
        "id": "wBRUzxQ0l6wM",
        "outputId": "48c5c286-dc10-4dd3-a2d0-f89746aa93a3"
      },
      "outputs": [
        {
          "name": "stdout",
          "output_type": "stream",
          "text": [
            "tensor([[0.9924],\n",
            "        [0.9958],\n",
            "        [0.3806],\n",
            "        ...,\n",
            "        [0.5782],\n",
            "        [0.4565],\n",
            "        [0.9918]], grad_fn=<SigmoidBackward0>)\n"
          ]
        }
      ],
      "source": [
        "prediccion = model(datos_test)\n",
        "print(prediccion)"
      ]
    },
    {
      "cell_type": "code",
      "execution_count": 53,
      "metadata": {
        "colab": {
          "base_uri": "https://localhost:8080/"
        },
        "id": "rV7WBPqwl9de",
        "outputId": "76475ad3-5ebb-41cf-cf71-ca4a83f05bf7"
      },
      "outputs": [
        {
          "data": {
            "text/plain": [
              "tensor([1.])"
            ]
          },
          "execution_count": 53,
          "metadata": {},
          "output_type": "execute_result"
        }
      ],
      "source": [
        "t_y_test[2]"
      ]
    },
    {
      "cell_type": "code",
      "execution_count": 97,
      "metadata": {
        "colab": {
          "base_uri": "https://localhost:8080/"
        },
        "id": "GxLepRejCjJU",
        "outputId": "b0ffc9fb-a1ac-44b8-c65e-6b73cf843fa8"
      },
      "outputs": [
        {
          "data": {
            "text/plain": [
              "tensor([[ 1.1174, -0.6500,  0.6764,  ..., -1.0050,  1.5103,  0.8145],\n",
              "        [ 0.4465, -0.6500,  0.6764,  ...,  0.9950,  1.1660,  0.3447],\n",
              "        [ 1.1174, -0.6500, -1.0839,  ..., -1.0050, -0.9001,  1.1020],\n",
              "        ...,\n",
              "        [-0.2244, -0.6500,  0.6764,  ...,  0.9950, -0.5558, -1.5828],\n",
              "        [ 1.1174, -0.6500,  0.6764,  ..., -1.0050, -1.2445, -1.5506],\n",
              "        [ 0.4465, -0.6500, -1.9640,  ...,  0.9950,  0.1329, -1.2993]])"
            ]
          },
          "execution_count": 97,
          "metadata": {},
          "output_type": "execute_result"
        }
      ],
      "source": [
        "datos_test"
      ]
    },
    {
      "cell_type": "code",
      "execution_count": 125,
      "metadata": {
        "id": "5ys5wdghKUnA"
      },
      "outputs": [],
      "source": [
        "prediccion = prediccion.detach().numpy()\n"
      ]
    },
    {
      "cell_type": "code",
      "execution_count": 126,
      "metadata": {
        "colab": {
          "base_uri": "https://localhost:8080/"
        },
        "id": "mIUAFAATKecH",
        "outputId": "796c133c-4d89-4134-907b-48cebd8f4831"
      },
      "outputs": [
        {
          "data": {
            "text/plain": [
              "array([[0.9924354 ],\n",
              "       [0.99582916],\n",
              "       [0.38062286],\n",
              "       ...,\n",
              "       [0.57817215],\n",
              "       [0.456488  ],\n",
              "       [0.99183524]], dtype=float32)"
            ]
          },
          "execution_count": 126,
          "metadata": {},
          "output_type": "execute_result"
        }
      ],
      "source": [
        "prediccion"
      ]
    },
    {
      "cell_type": "code",
      "execution_count": 129,
      "metadata": {
        "id": "ueI8m3bgLyhI"
      },
      "outputs": [],
      "source": [
        "df = pd.DataFrame(prediccion) #convert to a dataframe\n",
        "df.to_csv(\"Compilacion_Salidas/salida_red_neuronal_cthed2_2.csv\",index=False) #save to file\n",
        "\n"
      ]
    },
    {
      "cell_type": "code",
      "execution_count": 128,
      "metadata": {
        "colab": {
          "base_uri": "https://localhost:8080/",
          "height": 206
        },
        "id": "bwRgNrhQL-6Y",
        "outputId": "efec4f54-4c06-4dba-a6b2-7a700ed75d76"
      },
      "outputs": [
        {
          "data": {
            "text/html": [
              "\n",
              "  <div id=\"df-6ca3c223-ca30-4476-a1e3-2c9e053f9e88\">\n",
              "    <div class=\"colab-df-container\">\n",
              "      <div>\n",
              "<style scoped>\n",
              "    .dataframe tbody tr th:only-of-type {\n",
              "        vertical-align: middle;\n",
              "    }\n",
              "\n",
              "    .dataframe tbody tr th {\n",
              "        vertical-align: top;\n",
              "    }\n",
              "\n",
              "    .dataframe thead th {\n",
              "        text-align: right;\n",
              "    }\n",
              "</style>\n",
              "<table border=\"1\" class=\"dataframe\">\n",
              "  <thead>\n",
              "    <tr style=\"text-align: right;\">\n",
              "      <th></th>\n",
              "      <th>0</th>\n",
              "    </tr>\n",
              "  </thead>\n",
              "  <tbody>\n",
              "    <tr>\n",
              "      <th>0</th>\n",
              "      <td>0.992435</td>\n",
              "    </tr>\n",
              "    <tr>\n",
              "      <th>1</th>\n",
              "      <td>0.995829</td>\n",
              "    </tr>\n",
              "    <tr>\n",
              "      <th>2</th>\n",
              "      <td>0.380623</td>\n",
              "    </tr>\n",
              "    <tr>\n",
              "      <th>3</th>\n",
              "      <td>0.323325</td>\n",
              "    </tr>\n",
              "    <tr>\n",
              "      <th>4</th>\n",
              "      <td>0.461185</td>\n",
              "    </tr>\n",
              "  </tbody>\n",
              "</table>\n",
              "</div>\n",
              "      <button class=\"colab-df-convert\" onclick=\"convertToInteractive('df-6ca3c223-ca30-4476-a1e3-2c9e053f9e88')\"\n",
              "              title=\"Convert this dataframe to an interactive table.\"\n",
              "              style=\"display:none;\">\n",
              "        \n",
              "  <svg xmlns=\"http://www.w3.org/2000/svg\" height=\"24px\"viewBox=\"0 0 24 24\"\n",
              "       width=\"24px\">\n",
              "    <path d=\"M0 0h24v24H0V0z\" fill=\"none\"/>\n",
              "    <path d=\"M18.56 5.44l.94 2.06.94-2.06 2.06-.94-2.06-.94-.94-2.06-.94 2.06-2.06.94zm-11 1L8.5 8.5l.94-2.06 2.06-.94-2.06-.94L8.5 2.5l-.94 2.06-2.06.94zm10 10l.94 2.06.94-2.06 2.06-.94-2.06-.94-.94-2.06-.94 2.06-2.06.94z\"/><path d=\"M17.41 7.96l-1.37-1.37c-.4-.4-.92-.59-1.43-.59-.52 0-1.04.2-1.43.59L10.3 9.45l-7.72 7.72c-.78.78-.78 2.05 0 2.83L4 21.41c.39.39.9.59 1.41.59.51 0 1.02-.2 1.41-.59l7.78-7.78 2.81-2.81c.8-.78.8-2.07 0-2.86zM5.41 20L4 18.59l7.72-7.72 1.47 1.35L5.41 20z\"/>\n",
              "  </svg>\n",
              "      </button>\n",
              "      \n",
              "  <style>\n",
              "    .colab-df-container {\n",
              "      display:flex;\n",
              "      flex-wrap:wrap;\n",
              "      gap: 12px;\n",
              "    }\n",
              "\n",
              "    .colab-df-convert {\n",
              "      background-color: #E8F0FE;\n",
              "      border: none;\n",
              "      border-radius: 50%;\n",
              "      cursor: pointer;\n",
              "      display: none;\n",
              "      fill: #1967D2;\n",
              "      height: 32px;\n",
              "      padding: 0 0 0 0;\n",
              "      width: 32px;\n",
              "    }\n",
              "\n",
              "    .colab-df-convert:hover {\n",
              "      background-color: #E2EBFA;\n",
              "      box-shadow: 0px 1px 2px rgba(60, 64, 67, 0.3), 0px 1px 3px 1px rgba(60, 64, 67, 0.15);\n",
              "      fill: #174EA6;\n",
              "    }\n",
              "\n",
              "    [theme=dark] .colab-df-convert {\n",
              "      background-color: #3B4455;\n",
              "      fill: #D2E3FC;\n",
              "    }\n",
              "\n",
              "    [theme=dark] .colab-df-convert:hover {\n",
              "      background-color: #434B5C;\n",
              "      box-shadow: 0px 1px 3px 1px rgba(0, 0, 0, 0.15);\n",
              "      filter: drop-shadow(0px 1px 2px rgba(0, 0, 0, 0.3));\n",
              "      fill: #FFFFFF;\n",
              "    }\n",
              "  </style>\n",
              "\n",
              "      <script>\n",
              "        const buttonEl =\n",
              "          document.querySelector('#df-6ca3c223-ca30-4476-a1e3-2c9e053f9e88 button.colab-df-convert');\n",
              "        buttonEl.style.display =\n",
              "          google.colab.kernel.accessAllowed ? 'block' : 'none';\n",
              "\n",
              "        async function convertToInteractive(key) {\n",
              "          const element = document.querySelector('#df-6ca3c223-ca30-4476-a1e3-2c9e053f9e88');\n",
              "          const dataTable =\n",
              "            await google.colab.kernel.invokeFunction('convertToInteractive',\n",
              "                                                     [key], {});\n",
              "          if (!dataTable) return;\n",
              "\n",
              "          const docLinkHtml = 'Like what you see? Visit the ' +\n",
              "            '<a target=\"_blank\" href=https://colab.research.google.com/notebooks/data_table.ipynb>data table notebook</a>'\n",
              "            + ' to learn more about interactive tables.';\n",
              "          element.innerHTML = '';\n",
              "          dataTable['output_type'] = 'display_data';\n",
              "          await google.colab.output.renderOutput(dataTable, element);\n",
              "          const docLink = document.createElement('div');\n",
              "          docLink.innerHTML = docLinkHtml;\n",
              "          element.appendChild(docLink);\n",
              "        }\n",
              "      </script>\n",
              "    </div>\n",
              "  </div>\n",
              "  "
            ],
            "text/plain": [
              "          0\n",
              "0  0.992435\n",
              "1  0.995829\n",
              "2  0.380623\n",
              "3  0.323325\n",
              "4  0.461185"
            ]
          },
          "execution_count": 128,
          "metadata": {},
          "output_type": "execute_result"
        }
      ],
      "source": [
        "df.head()"
      ]
    },
    {
      "cell_type": "code",
      "execution_count": 118,
      "metadata": {
        "id": "wbN50L9pPLo-"
      },
      "outputs": [],
      "source": [
        "df.to_csv(\"output.csv\")"
      ]
    },
    {
      "cell_type": "code",
      "execution_count": null,
      "metadata": {
        "id": "44NKwD_FPRXm"
      },
      "outputs": [],
      "source": []
    }
  ],
  "metadata": {
    "colab": {
      "collapsed_sections": [],
      "provenance": []
    },
    "kernelspec": {
      "display_name": "Python 3.10.4 64-bit",
      "language": "python",
      "name": "python3"
    },
    "language_info": {
      "codemirror_mode": {
        "name": "ipython",
        "version": 3
      },
      "file_extension": ".py",
      "mimetype": "text/x-python",
      "name": "python",
      "nbconvert_exporter": "python",
      "pygments_lexer": "ipython3",
      "version": "3.10.4"
    },
    "vscode": {
      "interpreter": {
        "hash": "b9e6f0372556cc8639d21e94a77fd63dc6de2746dbd109d616677d40674a02dc"
      }
    }
  },
  "nbformat": 4,
  "nbformat_minor": 0
}
